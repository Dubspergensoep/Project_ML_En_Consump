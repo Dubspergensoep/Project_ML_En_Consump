{
 "cells": [
  {
   "cell_type": "code",
   "execution_count": 1,
   "metadata": {},
   "outputs": [],
   "source": [
    "import pandas as pd\n",
    "import numpy as np\n",
    "import matplotlib.pyplot as plt\n",
    "from sklearn import linear_model\n",
    "from sklearn.linear_model import LinearRegression\n",
    "from sklearn.metrics import mean_squared_error, r2_score\n",
    "from sklearn.preprocessing import PolynomialFeatures\n",
    "from sklearn.pipeline import make_pipeline"
   ]
  },
  {
   "cell_type": "code",
   "execution_count": 2,
   "metadata": {},
   "outputs": [],
   "source": [
    "df = pd.read_csv('consumption.csv')"
   ]
  },
  {
   "cell_type": "code",
   "execution_count": 3,
   "metadata": {},
   "outputs": [],
   "source": [
    "def get_monthi(n):\n",
    "    begin=48*31*(n-1)+1\n",
    "    end=48*31*n\n",
    "    if n==1:\n",
    "        begin=1\n",
    "    if n>1:\n",
    "        end-=3*48\n",
    "    if n>2:\n",
    "        begin-=3*48\n",
    "    if n>3:\n",
    "        end-=48\n",
    "    if n>4:\n",
    "        begin-=48\n",
    "    if n>5:\n",
    "        end-=48\n",
    "    if n>6:\n",
    "        begin-=48\n",
    "    if n>8:\n",
    "        end-=48\n",
    "    if n>9:\n",
    "        begin-=48\n",
    "    if n>10:\n",
    "        end-=48\n",
    "    if n>11:\n",
    "        begin-=48\n",
    "    return begin,end"
   ]
  },
  {
   "cell_type": "code",
   "execution_count": null,
   "metadata": {},
   "outputs": [],
   "source": [
    "pli=True #print log info\n",
    "NaN_t=1200 #NaN threshold (entire month has about 1400 datapoint)->we want atleast 1/7th of a month in this case\n",
    "totSSEnd=0\n",
    "nSSE=0\n",
    "totSSEm=0 #total SSE mean\n",
    "nSSEm=0\n",
    "totSSEn=0 #total SSE naive\n",
    "\n",
    "# loop over all meter ids\n",
    "for i in range(0,df.shape[0]):\n",
    "    #load row\n",
    "    meter=df.iloc[i]\n",
    "    fmf=False #first month found -> this variable is needed because naive drift needs 2 data points\n",
    "    \n",
    "    # loop over all months\n",
    "    for m in range (1,13):\n",
    "        ind_b,ind_e=get_monthi(m)               #get index of beginning and end of month\n",
    "        month=meter[ind_b:ind_e]\n",
    "\n",
    "        # Check if months has numeric values        \n",
    "        n_NaN=month.isnull().sum() #Number of NaN's\n",
    "        if n_NaN<NaN_t:\n",
    "            mean_month=month.mean()\n",
    "            if m<12:\n",
    "                #make guesses\n",
    "                naive_guess=mean_month\n",
    "                mean_guess=meter[1:ind_e].mean() #mean over all data up until now\n",
    "                #load next month\n",
    "                next_ind_b,next_ind_e=get_monthi(m+1) \n",
    "                next_month=meter[next_ind_b:next_ind_e]\n",
    "                mnm=next_month.mean()         #mean next month\n",
    "                #caluclate error\n",
    "                #mean\n",
    "                SSEm=(mnm-mean_guess)**2\n",
    "                totSSEm+=SSEm\n",
    "                nSSEm+=1\n",
    "                #niave\n",
    "                SSEn=(mnm-naive_guess)**2\n",
    "                totSSEn+=SSEn\n",
    "                #naive drift needs 2 months worth of data and thus need to wait for the first month to be found\n",
    "                if fmf:\n",
    "                    ndrift=2*mean_month-last_month\n",
    "                    #naive drift error\n",
    "                    SSEnd=(mnm-ndrift)**2 \n",
    "                    totSSEnd+=SSEnd\n",
    "                    nSSE+=1\n",
    "                    \n",
    "                if pli:\n",
    "                    print(\"i=%i m=%i mean SSE=%f   naive SSE=%f\" % (i, m, SSEm, SSEn))\n",
    "            else:\n",
    "                fmf=True\n",
    "            \n",
    "            last_month=mean_month\n",
    "        else:\n",
    "            begin,end = get_monthi(m)\n",
    "            \n",
    "        \n",
    "        #if pli:     \n",
    "        #    print(\"Current month is %i\" % m)\n",
    "        #    print(\"Amount of NaN found %i\" %n_NaN)"
   ]
  },
  {
   "cell_type": "code",
   "execution_count": 16,
   "metadata": {},
   "outputs": [
    {
     "name": "stdout",
     "output_type": "stream",
     "text": [
      "Average SSE mean method: 0.006989\n",
      "Average SSE naive method: 0.003388\n"
     ]
    }
   ],
   "source": [
    "print(\"Average SSE mean method: %f\" %(totSSEm/nSSEm))\n",
    "print(\"Average SSE naive method: %f\" %(totSSEn/nSSEm))"
   ]
  }
 ],
 "metadata": {
  "kernelspec": {
   "display_name": "Python 3",
   "language": "python",
   "name": "python3"
  },
  "language_info": {
   "codemirror_mode": {
    "name": "ipython",
    "version": 3
   },
   "file_extension": ".py",
   "mimetype": "text/x-python",
   "name": "python",
   "nbconvert_exporter": "python",
   "pygments_lexer": "ipython3",
   "version": "3.6.12"
  }
 },
 "nbformat": 4,
 "nbformat_minor": 4
}
