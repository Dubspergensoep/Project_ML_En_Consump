{
 "cells": [
  {
   "cell_type": "code",
   "execution_count": 55,
   "metadata": {},
   "outputs": [],
   "source": [
    "#libaries\n",
    "import pandas as pd\n",
    "import numpy as np\n",
    "import matplotlib.pyplot as plt\n",
    "from sklearn import linear_model\n",
    "from sklearn.linear_model import LinearRegression\n",
    "from sklearn.metrics import mean_squared_error, r2_score\n",
    "from sklearn.preprocessing import PolynomialFeatures\n",
    "from sklearn.pipeline import make_pipeline\n",
    "from sklearn.model_selection import train_test_split\n",
    "from sklearn.model_selection import KFold\n",
    "#Project functions\n",
    "from Project_functions import get_monthi,get_mean_temp"
   ]
  },
  {
   "cell_type": "code",
   "execution_count": 2,
   "metadata": {},
   "outputs": [],
   "source": [
    "#setup\n",
    "df = pd.read_csv(\"consumption.csv\")\n",
    "weather_avg = pd.read_csv('weather-avg.csv')\n",
    "weather_min = pd.read_csv('weather-min.csv')\n",
    "weather_max = pd.read_csv('weather-max.csv')\n",
    "info = pd.read_csv('addinfo.csv')\n",
    "weather_avg = weather_avg.set_index(\"meter_id\")\n",
    "weather_min = weather_min.set_index(\"meter_id\")\n",
    "weather_max = weather_max.set_index(\"meter_id\")\n",
    "info = info.set_index(\"meter_id\")\n",
    "weather_avg_sorted = weather_avg.reindex(df.iloc[:,0])\n",
    "weather_min_sorted = weather_min.reindex(df.iloc[:,0])\n",
    "weather_max_sorted = weather_max.reindex(df.iloc[:,0])\n",
    "info_sorted = info.reindex(df.iloc[:,0])\n",
    "brinfo=info_sorted['num_bedrooms']\n",
    "values = {'num_bedrooms' : brinfo.mean()}\n",
    "info_filled_br = info_sorted.fillna(value = values)\n",
    "brinfo_filled = info_filled_br['num_bedrooms']"
   ]
  },
  {
   "cell_type": "code",
   "execution_count": 56,
   "metadata": {},
   "outputs": [],
   "source": [
    "#these don't work out of the function file apperantly\n",
    "def Eval_random_Split(features,npEn_con,split,model,print_res=True):\n",
    "    X_train, X_test, y_train, y_test = train_test_split(\n",
    "    features , npEn_con.reshape(-1,1), test_size=split, random_state=0)\n",
    "    #print(X_train.shape, y_train.shape)\n",
    "    #print(X_test.shape, y_test.shape)\n",
    "    model.fit(X_train,y_train)\n",
    "    if print_res:\n",
    "        y_pred=model.predict(X_test)\n",
    "        print('Coefficients: \\n', model.coef_)\n",
    "        print('Intercept: {}'.format(model.intercept_))\n",
    "        # The mean squared error\n",
    "        print('Mean squared error: %.8f' % mean_squared_error(y_test, y_pred))\n",
    "        # The coefficient of determination: 1 is perfect prediction\n",
    "        print('Coefficient of determination: %.8f' % r2_score(y_test, y_pred))\n",
    "    return model\n",
    "\n",
    "def Check_1D(features,npEn_con,split,model,print_res=True):\n",
    "    #extract only the last month from the features\n",
    "    features_lm=features[:,(features.shape[-1]-1)]\n",
    "    features_lm=features_lm.reshape(-1,1)\n",
    "    #use previously made function\n",
    "    return Eval_random_Split(features_lm,npEn_con,split,model,print_res)\n",
    "\n",
    "#z-normalization on data:\n",
    "def normalise_features(np_features):\n",
    "    #np_features_norm= np.zeros(shape = np_features.shape)\n",
    "    np_features_norm=np_features\n",
    "    if np_features.ndim==1:\n",
    "        np_features_norm=(np_features-np.mean(np_features))/np.std(np_features)\n",
    "    else: \n",
    "        for i in range(np_features.shape[1]):\n",
    "            np_features_norm[:,i] = (np_features[:,i]-np.mean(np_features[:,i]))/np.std(np_features[:,i])\n",
    "    return np_features_norm\n",
    "\n",
    "def Eval_Kfold_Split(features,npEn_con,n_splits,model,print_res=True):\n",
    "    kf = KFold(n_splits, shuffle=True)\n",
    "    models_arr=[]\n",
    "    MSE_arr=[]\n",
    "    R2_arr=[]\n",
    "    for train_index, test_index in kf.split(features): \n",
    "        cmodel=model\n",
    "        cmodel.fit(features[train_index,],npEn_con[train_index])\n",
    "        models_arr.append(cmodel)\n",
    "        y_pred = model.predict(features[test_index,])\n",
    "        MSE_arr.append(mean_squared_error(npEn_con[test_index,], y_pred));\n",
    "        R2_arr.append(r2_score(npEn_con[test_index,], y_pred))\n",
    "    if print_res:\n",
    "        # The mean squared error\n",
    "        print('Mean squared error:')\n",
    "        print(np.mean(MSE_arr))\n",
    "        # The coefficient of determination: 1 is perfect prediction\n",
    "        print('Coefficient of determination: ' )\n",
    "        print(np.mean(R2_arr))\n",
    "    return models_arr"
   ]
  },
  {
   "cell_type": "code",
   "execution_count": 40,
   "metadata": {},
   "outputs": [],
   "source": [
    "def sort_data(nim,nom):\n",
    "    #nim: number of input months\n",
    "    #nom: number of output months\n",
    "    \n",
    "    #CHECK INPUTS\n",
    "    if nim<1:\n",
    "        print(\"number of input months (nim) should be greater or equal to 1\")\n",
    "        return 0\n",
    "    if nom<1:\n",
    "        print(\"number of output months (nom) should be greater or equal to 1\")\n",
    "        return 0\n",
    "    \n",
    "    #DATA STORAGE\n",
    "    En_con=[]    #current/future consumption (this is what we try to predict)\n",
    "    prev_con=[] #previous consumtion\n",
    "    #extra info\n",
    "    temps=[]\n",
    "    temps_min=[]\n",
    "    temps_max=[]\n",
    "    month_arr=[]\n",
    "    br_arr=[]       #Bedroom info array\n",
    "    br_arr_mean=[]\n",
    "    dwt_arr=[]      #dwelling type array\n",
    "    y = pd.get_dummies(info_sorted.dwelling_type, prefix='dwelling_type')\n",
    "    \n",
    "    #LOOP\n",
    "    NaN_t=1200  #thershold\n",
    "    for i in range(df.shape[0]): # loop over all users\n",
    "        meter=df.iloc[i] # = row number i  \n",
    "    \n",
    "        #loop over all month from januari until month 14-nim-nom\n",
    "        #if the month is higher then this we don't have enough data for the nim input and nom output variables\n",
    "        #in the case of nim=1 nom=1 we get range(1,12) wich result in m going from 1 to 11 like we want\n",
    "        for m in range (1,14-nim-nom): \n",
    "            #load current month\n",
    "            bi, ei =get_monthi(m)    #bi (begin index) ei(end index)\n",
    "            month=meter[bi:ei]       #data for the month m for the row user (row) i\n",
    "            #load bedroom info\n",
    "            row = brinfo[i:i+1]               #bedroom info with NaN values\n",
    "            row_mean = brinfo_filled[i:i+1]  #bedroom info with mean values\n",
    "            #Load dwelling type\n",
    "            dew_type_row = y[i:i+1]\n",
    "            \n",
    "            # Count the amount of NaN's in current      \n",
    "            n_NaN=month.isnull().sum() \n",
    "\n",
    "            # Check if months have numeric values otherwise discard the month for this user. \n",
    "            if n_NaN<NaN_t:\n",
    "                for j in range(m,14-nim-nom):\n",
    "                    #save input for month j,j+1,..,j+nim-1\n",
    "                    input_months=np.zeros(nim)\n",
    "                    output_months=np.zeros(nom)\n",
    "                    for k in range(nim):\n",
    "                        #load month for input j+k (k goes from 0 to nim-1)\n",
    "                        bik,eik=get_monthi(j+k)\n",
    "                        input_months[k]=meter[bik:eik].mean()\n",
    "                    for k in range(nom):\n",
    "                        #load month for input j+nim+k\n",
    "                        bik,eik=get_monthi(j+nim+k)\n",
    "                        output_months[k]=meter[bik:eik].mean()\n",
    "                    #debug if statement checks for NaN in input month\n",
    "                    if np.isnan(np.sum(input_months)):\n",
    "                        print(\"input month has nan value for months=%i index=%i\" %(j,i))\n",
    "                        print(input_months)\n",
    "                    if np.isnan(np.sum(output_months)):\n",
    "                        print(\"Output months has nan value for months=%i index=%i\" %(j,i))\n",
    "                        print(output_months)\n",
    "                    #store Energy consumption data\n",
    "                    prev_con.append(input_months)\n",
    "                    En_con.append(output_months)\n",
    "                    #save extra information THE TEMPERATURE FOR ALL MONTHS EN CON MONTHS SHOULD BE SAVE THIS IS NOT THE CASE\n",
    "                    temps.append(get_mean_temp(weather_avg_sorted.iloc[i:i+1],j+nim))\n",
    "                    temps_min.append(get_mean_temp(weather_min_sorted.iloc[i:i+1],j+nim))\n",
    "                    temps_max.append(get_mean_temp(weather_max_sorted.iloc[i:i+1],j+nim))\n",
    "                    month_arr.append(j+nim)\n",
    "                    #bedroom info\n",
    "                    n_br=row[0]\n",
    "                    br=np.zeros(5)\n",
    "                    if ~np.isnan(n_br):\n",
    "                        #print(n_br)\n",
    "                        br[np.int(n_br-1)]=1\n",
    "                    br_arr.append(br)\n",
    "                    br_arr_mean.append(row_mean[0])\n",
    "                    #dwelling type\n",
    "                    dwt_arr.append(dew_type_row.to_numpy().ravel())\n",
    "                        \n",
    "                #break out of outer month loops since the inner month loop takes care of all months\n",
    "                break\n",
    "                \n",
    "    # converting list to numpy arrays: \n",
    "    npEn_con=np.array(En_con)\n",
    "    npprev_con=np.array(prev_con)\n",
    "    nptemps=np.array(temps)\n",
    "    nptemps_min=np.array(temps_min)\n",
    "    nptemps_max=np.array(temps_max)\n",
    "    npmonth=np.array(month_arr)\n",
    "    npbr=np.array(br_arr)\n",
    "    npbrmean=np.array(br_arr_mean)\n",
    "    npdwt=np.array(dwt_arr)\n",
    "    \n",
    "    #This should probably be done differently \n",
    "    return npEn_con,npprev_con,nptemps,nptemps_min,nptemps_max,npmonth,npbr,npbrmean,npdwt\n",
    "    "
   ]
  },
  {
   "cell_type": "code",
   "execution_count": 77,
   "metadata": {},
   "outputs": [],
   "source": [
    "npEn_con,npprev_con,nptemps,nptemps_min,nptemps_max,npmonth,npbr,npbrmean,npdwt=sort_data(1,1)"
   ]
  },
  {
   "cell_type": "code",
   "execution_count": 31,
   "metadata": {},
   "outputs": [
    {
     "name": "stdout",
     "output_type": "stream",
     "text": [
      "[[0 0 0 0 0]]\n",
      "[0 0 0 0 0]\n",
      "[False False False False False]\n",
      "False\n"
     ]
    }
   ],
   "source": [
    "yt = pd.get_dummies(info_sorted.dwelling_type, prefix='dwelling_type')\n",
    "#print(yt)\n",
    "i=1252\n",
    "dew_type_row = yt[i:i+1]\n",
    "print(dew_type_row.to_numpy())\n",
    "print(dew_type_row.to_numpy().ravel())\n",
    "#print(dew_type_row.isnull())\n",
    "print(np.isnan(dew_type_row.to_numpy().ravel()))\n",
    "print(np.any(np.isnan(dew_type_row.to_numpy().ravel())))"
   ]
  },
  {
   "cell_type": "markdown",
   "metadata": {},
   "source": [
    "Test results new sort_data function"
   ]
  },
  {
   "cell_type": "code",
   "execution_count": 63,
   "metadata": {},
   "outputs": [
    {
     "name": "stdout",
     "output_type": "stream",
     "text": [
      "(17845, 1)\n",
      "Coefficients: \n",
      " [[1.01008592]]\n",
      "Intercept: [0.00831724]\n",
      "Mean squared error: 0.00323402\n",
      "Coefficient of determination: 0.83505367\n",
      "Mean squared error:\n",
      "0.003332909297342171\n",
      "Coefficient of determination: \n",
      "0.8342667822081762\n",
      "1 months\n",
      "Mean squared error:\n",
      "0.00313942903726483\n",
      "Coefficient of determination: \n",
      "0.8439381732263028\n"
     ]
    }
   ],
   "source": [
    "print(npEn_con.shape)\n",
    "#1 month of previous data\n",
    "Eval_random_Split(npprev_con,npEn_con,0.3,LinearRegression())\n",
    "model=Eval_Kfold_Split(npprev_con,npEn_con,10,LinearRegression())\n",
    "print(\"1 months\")\n",
    "np_features=np.column_stack(((npprev_con,nptemps,nptemps_min, nptemps_max, npbr)))\n",
    "models_arr=Eval_Kfold_Split(np_features,npEn_con,10,LinearRegression())\n",
    "#this seems to work let's try loading more than one input month"
   ]
  },
  {
   "cell_type": "code",
   "execution_count": 64,
   "metadata": {},
   "outputs": [],
   "source": [
    "npEn_con2,npprev_con2,nptemps2,nptemps_min2,nptemps_max2,npmonth2,npbr2,npbrmean2,npdwt2=sort_data(2,1)\n",
    "npEn_con3,npprev_con3,nptemps3,nptemps_min3,nptemps_max3,npmonth3,npbr3,npbrmean3,npdwt3=sort_data(3,1)"
   ]
  },
  {
   "cell_type": "code",
   "execution_count": 65,
   "metadata": {},
   "outputs": [
    {
     "name": "stdout",
     "output_type": "stream",
     "text": [
      "2 months\n",
      "Mean squared error:\n",
      "0.0029432009360840445\n",
      "Coefficient of determination: \n",
      "0.85368435061221\n",
      "\n",
      " 3 months\n",
      "Mean squared error:\n",
      "0.002985080273165061\n",
      "Coefficient of determination: \n",
      "0.8524227588394664\n"
     ]
    }
   ],
   "source": [
    "#2 months\n",
    "print(\"2 months\")\n",
    "np_features=np.column_stack(((npprev_con2,nptemps2,nptemps_min2, nptemps_max2, npbr2)))\n",
    "models_arr=Eval_Kfold_Split(np_features,npEn_con2,10,LinearRegression())\n",
    "#3 months\n",
    "print(\"\\n 3 months\")\n",
    "np_features=np.column_stack(((npprev_con3,nptemps3,nptemps_min3, nptemps_max3, npbr3)))\n",
    "models_arr=Eval_Kfold_Split(np_features,npEn_con3,10,LinearRegression())\n",
    "#result seems more or less the same"
   ]
  },
  {
   "cell_type": "code",
   "execution_count": 68,
   "metadata": {},
   "outputs": [
    {
     "name": "stdout",
     "output_type": "stream",
     "text": [
      "1 months\n",
      "Mean squared error:\n",
      "0.15591067957611787\n",
      "Coefficient of determination: \n",
      "0.843619962891316\n",
      "normalised\n",
      "Mean squared error:\n",
      "0.15584969121687714\n",
      "Coefficient of determination: \n",
      "0.8439478506141658\n",
      "\n",
      "\n",
      "2 months\n",
      "Mean squared error:\n",
      "0.14688738960621736\n",
      "Coefficient of determination: \n",
      "0.8527429343702894\n",
      "normalised\n",
      "Mean squared error:\n",
      "0.14684242256307706\n",
      "Coefficient of determination: \n",
      "0.8524045271628602\n"
     ]
    }
   ],
   "source": [
    "#test new dwelling type one hot encoding\n",
    "print(\"1 months\")\n",
    "np_features=np.column_stack(((npprev_con,nptemps,nptemps_min, nptemps_max, npbr,npdwt)))\n",
    "models_arr=Eval_Kfold_Split(np_features,npEn_con,10,LinearRegression())\n",
    "print(\"normalised\")\n",
    "np_features_norm=normalise_features(np_features)\n",
    "npEn_con1_norm=normalise_features(npEn_con)\n",
    "models_arr=Eval_Kfold_Split(np_features_norm,npEn_con1_norm,10,LinearRegression())\n",
    "print(\"\\n\")\n",
    "print(\"2 months\")\n",
    "np_features=np.column_stack(((npprev_con2,nptemps2,nptemps_min2, nptemps_max2, npbr2,npdwt2)))\n",
    "models_arr=Eval_Kfold_Split(np_features,npEn_con2,10,LinearRegression())\n",
    "print(\"normalised\")\n",
    "np_features_norm=normalise_features(np_features)\n",
    "npEn_con2_norm=normalise_features(npEn_con2)\n",
    "models_arr=Eval_Kfold_Split(np_features_norm,npEn_con2_norm,10,LinearRegression())"
   ]
  },
  {
   "cell_type": "code",
   "execution_count": 161,
   "metadata": {},
   "outputs": [
    {
     "name": "stdout",
     "output_type": "stream",
     "text": [
      "Mean squared error:\n",
      "0.16557167639697662\n",
      "Coefficient of determination: \n",
      "0.8333965681188575\n"
     ]
    }
   ],
   "source": [
    "np_features=np.column_stack(((npprev_con,nptemps)) \n",
    "#only the npprev_con and nptemps and npmonth feature seem important \n",
    "#the other feature do not influence the result greatly\n",
    "#np_features=npprev_con\n",
    "np_features_norm=normalise_features(np_features)\n",
    "npEn_con1_norm=normalise_features(npEn_con)\n",
    "models_arr=Eval_Kfold_Split(np_features_norm,npEn_con1_norm,10,LinearRegression())"
   ]
  },
  {
   "cell_type": "markdown",
   "metadata": {},
   "source": [
    "### More months to predict"
   ]
  },
  {
   "cell_type": "code",
   "execution_count": 69,
   "metadata": {},
   "outputs": [],
   "source": [
    "npEn_con22,npprev_con22,nptemps22,nptemps_min22,nptemps_max22,npmonth22,npbr22,npbrmean22,npdwt22=sort_data(2,2)"
   ]
  },
  {
   "cell_type": "code",
   "execution_count": 72,
   "metadata": {},
   "outputs": [
    {
     "name": "stdout",
     "output_type": "stream",
     "text": [
      "(12164, 2)\n",
      "Mean squared error:\n",
      "0.2545935626826167\n",
      "Coefficient of determination: \n",
      "0.7447883683072353\n"
     ]
    }
   ],
   "source": [
    "#tests\n",
    "print(npEn_con22.shape)\n",
    "np_features=np.column_stack(((npprev_con22,nptemps22,nptemps_min22, nptemps_max22, npbr22,npdwt22)))\n",
    "npEn_con=npEn_con22\n",
    "np_features_norm=normalise_features(np_features)\n",
    "npEn_con1_norm=normalise_features(npEn_con)\n",
    "models_arr=Eval_Kfold_Split(np_features_norm,npEn_con1_norm,10,LinearRegression())"
   ]
  },
  {
   "cell_type": "code",
   "execution_count": 75,
   "metadata": {},
   "outputs": [
    {
     "name": "stdout",
     "output_type": "stream",
     "text": [
      "Mean squared error:\n",
      "0.1721346661258377\n",
      "Coefficient of determination: \n",
      "0.8283934488819575\n"
     ]
    }
   ],
   "source": [
    "np_features=np.column_stack(((npprev_con22,nptemps22,nptemps_min22, nptemps_max22, npbr22,npdwt22)))\n",
    "npEn_con=npEn_con22[:,0]\n",
    "np_features_norm=normalise_features(np_features)\n",
    "npEn_con1_norm=normalise_features(npEn_con)\n",
    "models_arr=Eval_Kfold_Split(np_features_norm,npEn_con1_norm,10,LinearRegression())"
   ]
  },
  {
   "cell_type": "markdown",
   "metadata": {},
   "source": [
    "As you'd expect the error has increased but is still not terrible. <br>\n",
    "In the second blok we also see that this is not due to the reduced data set."
   ]
  },
  {
   "cell_type": "code",
   "execution_count": 162,
   "metadata": {},
   "outputs": [],
   "source": [
    "npEn_con12,npprev_con12,nptemps12,nptemps_min12,nptemps_max12,npmonth12,npbr12,npbrmean12,npdwt12=sort_data(1,2)\n",
    "npEn_con13,npprev_con13,nptemps13,nptemps_min13,nptemps_max13,npmonth13,npbr13,npbrmean13,npdwt13=sort_data(1,3)\n",
    "npEn_con16,npprev_con16,nptemps16,nptemps_min16,nptemps_max16,npmonth16,npbr16,npbrmean16,npdwt16=sort_data(1,6)\n",
    "npEn_con23,npprev_con23,nptemps23,nptemps_min23,nptemps_max23,npmonth23,npbr23,npbrmean23,npdwt23=sort_data(2,3)\n",
    "npEn_con26,npprev_con26,nptemps26,nptemps_min26,nptemps_max26,npmonth26,npbr26,npbrmean26,npdwt26=sort_data(2,6)\n",
    "npEn_con32,npprev_con32,nptemps32,nptemps_min32,nptemps_max32,npmonth32,npbr32,npbrmean32,npdwt32=sort_data(3,2)\n",
    "npEn_con33,npprev_con33,nptemps33,nptemps_min33,nptemps_max33,npmonth33,npbr33,npbrmean33,npdwt33=sort_data(3,3)\n",
    "npEn_con36,npprev_con36,nptemps36,nptemps_min36,nptemps_max36,npmonth36,npbr36,npbrmean36,npdwt36=sort_data(3,6)"
   ]
  },
  {
   "cell_type": "code",
   "execution_count": 172,
   "metadata": {},
   "outputs": [
    {
     "name": "stdout",
     "output_type": "stream",
     "text": [
      "################## \n",
      "1 2\n",
      "(14868, 2)\n",
      "Mean squared error:\n",
      "0.2725120205426432\n",
      "Coefficient of determination: \n",
      "0.7271512042549124\n",
      "\n",
      "1 output month check\n",
      "Mean squared error:\n",
      "0.1768928917880479\n",
      "Coefficient of determination: \n",
      "0.8231367777498926\n",
      "################## \n",
      "1 3\n",
      "(12164, 3)\n",
      "Mean squared error:\n",
      "0.32523130433900993\n",
      "Coefficient of determination: \n",
      "0.6749415040083415\n",
      "\n",
      "1 output month check\n",
      "Mean squared error:\n",
      "0.12202860367652764\n",
      "Coefficient of determination: \n",
      "0.8775988342610285\n",
      "################## \n",
      "1 6\n",
      "(5672, 6)\n",
      "Mean squared error:\n",
      "0.334124708181922\n",
      "Coefficient of determination: \n",
      "0.6652504179752872\n",
      "\n",
      "1 output month check\n",
      "Mean squared error:\n",
      "0.09457971308183746\n",
      "Coefficient of determination: \n",
      "0.9038447935697518\n"
     ]
    }
   ],
   "source": [
    "print(\"################## \\n1 2\")\n",
    "print(npEn_con12.shape)\n",
    "np_features=np.column_stack(((npprev_con12,nptemps12,nptemps_min12, nptemps_max12, npbr12,npdwt12)))\n",
    "npEn_con1=npEn_con12\n",
    "np_features_norm=normalise_features(np_features)\n",
    "npEn_con1_norm=normalise_features(npEn_con1)\n",
    "models_arr=Eval_Kfold_Split(np_features_norm,npEn_con1_norm,10,LinearRegression())\n",
    "print(\"\\n1 output month check\")\n",
    "models_arr=Eval_Kfold_Split(np_features_norm,npEn_con1_norm[:,0],10,LinearRegression())\n",
    "print(\"################## \\n1 3\")\n",
    "print(npEn_con13.shape)\n",
    "np_features=np.column_stack(((npprev_con13,nptemps13,nptemps_min13, nptemps_max13, npbr13,npdwt13)))\n",
    "npEn_con1=npEn_con13\n",
    "np_features_norm=normalise_features(np_features)\n",
    "npEn_con1_norm=normalise_features(npEn_con1)\n",
    "models_arr=Eval_Kfold_Split(np_features_norm,npEn_con1_norm,10,LinearRegression())\n",
    "print(\"\\n1 output month check\")\n",
    "models_arr=Eval_Kfold_Split(np_features_norm,npEn_con1_norm[:,0],10,LinearRegression())\n",
    "print(\"################## \\n1 6\")\n",
    "print(npEn_con16.shape)\n",
    "np_features=np.column_stack(((npprev_con16,nptemps16,nptemps_min16, nptemps_max16, npbr16,npdwt16)))\n",
    "npEn_con1=npEn_con16\n",
    "np_features_norm=normalise_features(np_features)\n",
    "npEn_con1_norm=normalise_features(npEn_con1)\n",
    "models_arr=Eval_Kfold_Split(np_features_norm,npEn_con1_norm,10,LinearRegression())\n",
    "print(\"\\n1 output month check\")\n",
    "models_arr=Eval_Kfold_Split(np_features_norm,npEn_con1_norm[:,0],10,LinearRegression())"
   ]
  },
  {
   "cell_type": "code",
   "execution_count": 175,
   "metadata": {},
   "outputs": [
    {
     "name": "stdout",
     "output_type": "stream",
     "text": [
      "################## \n",
      "2 2\n",
      "(12164, 2)\n",
      "Mean squared error:\n",
      "0.2547782381954041\n",
      "Coefficient of determination: \n",
      "0.7453798124528687\n",
      "\n",
      "1 output month check\n",
      "Mean squared error:\n",
      "0.17226352947837378\n",
      "Coefficient of determination: \n",
      "0.8282204125757536\n",
      "################## \n",
      "2 3\n",
      "(9729, 3)\n",
      "Mean squared error:\n",
      "0.3090429970824544\n",
      "Coefficient of determination: \n",
      "0.6913264348624913\n",
      "\n",
      "1 output month check\n",
      "Mean squared error:\n",
      "0.12534172237449653\n",
      "Coefficient of determination: \n",
      "0.8744231977973274\n",
      "################## \n",
      "2 6\n",
      "(4050, 6)\n",
      "Mean squared error:\n",
      "0.31133404957524524\n",
      "Coefficient of determination: \n",
      "0.6878302142429276\n",
      "\n",
      "1 output month check\n",
      "Mean squared error:\n",
      "0.10102070467558018\n",
      "Coefficient of determination: \n",
      "0.8962590040032467\n"
     ]
    }
   ],
   "source": [
    "print(\"################## \\n2 2\")\n",
    "print(npEn_con22.shape)\n",
    "np_features=np.column_stack(((npprev_con22,nptemps22,nptemps_min22, nptemps_max22, npbr22,npdwt22)))\n",
    "npEn_con1=npEn_con22\n",
    "np_features_norm=normalise_features(np_features)\n",
    "npEn_con1_norm=normalise_features(npEn_con1)\n",
    "models_arr=Eval_Kfold_Split(np_features_norm,npEn_con1_norm,10,LinearRegression())\n",
    "print(\"\\n1 output month check\")\n",
    "models_arr=Eval_Kfold_Split(np_features_norm,npEn_con1_norm[:,0],10,LinearRegression())\n",
    "print(\"################## \\n2 3\")\n",
    "print(npEn_con23.shape)\n",
    "np_features=np.column_stack(((npprev_con23,nptemps23,nptemps_min23, nptemps_max23, npbr23,npdwt23)))\n",
    "npEn_con1=npEn_con23\n",
    "np_features_norm=normalise_features(np_features)\n",
    "npEn_con1_norm=normalise_features(npEn_con1)\n",
    "models_arr=Eval_Kfold_Split(np_features_norm,npEn_con1_norm,10,LinearRegression())\n",
    "print(\"\\n1 output month check\")\n",
    "models_arr=Eval_Kfold_Split(np_features_norm,npEn_con1_norm[:,0],10,LinearRegression())\n",
    "print(\"################## \\n2 6\")\n",
    "print(npEn_con26.shape)\n",
    "np_features=np.column_stack(((npprev_con26,nptemps26,nptemps_min26, nptemps_max26, npbr26,npdwt26)))\n",
    "npEn_con1=npEn_con26\n",
    "np_features_norm=normalise_features(np_features)\n",
    "npEn_con1_norm=normalise_features(npEn_con1)\n",
    "models_arr=Eval_Kfold_Split(np_features_norm,npEn_con1_norm,10,LinearRegression())\n",
    "print(\"\\n1 output month check\")\n",
    "models_arr=Eval_Kfold_Split(np_features_norm,npEn_con1_norm[:,0],10,LinearRegression())"
   ]
  },
  {
   "cell_type": "code",
   "execution_count": 174,
   "metadata": {},
   "outputs": [
    {
     "name": "stdout",
     "output_type": "stream",
     "text": [
      "################## \n",
      "3 2\n",
      "(9729, 2)\n",
      "Mean squared error:\n",
      "0.24923874401934581\n",
      "Coefficient of determination: \n",
      "0.7496086086441274\n",
      "\n",
      "1 output month check\n",
      "Mean squared error:\n",
      "0.173735233847974\n",
      "Coefficient of determination: \n",
      "0.8252875388861483\n",
      "################## \n",
      "3 3\n",
      "(7565, 3)\n",
      "Mean squared error:\n",
      "0.298855986374971\n",
      "Coefficient of determination: \n",
      "0.6997284296582352\n",
      "\n",
      "1 output month check\n",
      "Mean squared error:\n",
      "0.12552079911282762\n",
      "Coefficient of determination: \n",
      "0.8751380719257768\n",
      "################## \n",
      "3 6\n",
      "(2699, 6)\n",
      "Mean squared error:\n",
      "0.2891669846974029\n",
      "Coefficient of determination: \n",
      "0.706913138816124\n",
      "\n",
      "1 output month check\n",
      "Mean squared error:\n",
      "0.10423094056249951\n",
      "Coefficient of determination: \n",
      "0.8935145599540361\n"
     ]
    }
   ],
   "source": [
    "print(\"################## \\n3 2\")\n",
    "print(npEn_con32.shape)\n",
    "np_features=np.column_stack(((npprev_con32,nptemps32,nptemps_min32, nptemps_max32, npbr32,npdwt32)))\n",
    "npEn_con1=npEn_con32\n",
    "np_features_norm=normalise_features(np_features)\n",
    "npEn_con1_norm=normalise_features(npEn_con1)\n",
    "models_arr=Eval_Kfold_Split(np_features_norm,npEn_con1_norm,10,LinearRegression())\n",
    "print(\"\\n1 output month check\")\n",
    "models_arr=Eval_Kfold_Split(np_features_norm,npEn_con1_norm[:,0],10,LinearRegression())\n",
    "print(\"################## \\n3 3\")\n",
    "print(npEn_con33.shape)\n",
    "np_features=np.column_stack(((npprev_con33,nptemps33,nptemps_min33, nptemps_max33, npbr33,npdwt33)))\n",
    "npEn_con1=npEn_con33\n",
    "np_features_norm=normalise_features(np_features)\n",
    "npEn_con1_norm=normalise_features(npEn_con1)\n",
    "models_arr=Eval_Kfold_Split(np_features_norm,npEn_con1_norm,10,LinearRegression())\n",
    "print(\"\\n1 output month check\")\n",
    "models_arr=Eval_Kfold_Split(np_features_norm,npEn_con1_norm[:,0],10,LinearRegression())\n",
    "print(\"################## \\n3 6\")\n",
    "print(npEn_con36.shape)\n",
    "np_features=np.column_stack(((npprev_con36,nptemps36,nptemps_min36, nptemps_max36, npbr36,npdwt36)))\n",
    "npEn_con1=npEn_con36\n",
    "np_features_norm=normalise_features(np_features)\n",
    "npEn_con1_norm=normalise_features(npEn_con1)\n",
    "models_arr=Eval_Kfold_Split(np_features_norm,npEn_con1_norm,10,LinearRegression())\n",
    "print(\"\\n1 output month check\")\n",
    "models_arr=Eval_Kfold_Split(np_features_norm,npEn_con1_norm[:,0],10,LinearRegression())"
   ]
  }
 ],
 "metadata": {
  "kernelspec": {
   "display_name": "Python 3",
   "language": "python",
   "name": "python3"
  },
  "language_info": {
   "codemirror_mode": {
    "name": "ipython",
    "version": 3
   },
   "file_extension": ".py",
   "mimetype": "text/x-python",
   "name": "python",
   "nbconvert_exporter": "python",
   "pygments_lexer": "ipython3",
   "version": "3.6.12"
  }
 },
 "nbformat": 4,
 "nbformat_minor": 4
}
