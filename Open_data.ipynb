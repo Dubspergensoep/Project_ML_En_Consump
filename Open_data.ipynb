{
 "cells": [
  {
   "cell_type": "markdown",
   "metadata": {},
   "source": [
    "# Failed attempts to use numpy and csv"
   ]
  },
  {
   "cell_type": "code",
   "execution_count": null,
   "metadata": {},
   "outputs": [],
   "source": []
  },
  {
   "cell_type": "code",
   "execution_count": 1,
   "metadata": {},
   "outputs": [],
   "source": [
    "import numpy as np\n",
    "import csv"
   ]
  },
  {
   "cell_type": "code",
   "execution_count": 10,
   "metadata": {},
   "outputs": [
    {
     "name": "stdout",
     "output_type": "stream",
     "text": [
      "0\n",
      "1\n",
      "2\n",
      "3\n",
      "4\n",
      "5\n",
      "6\n",
      "7\n",
      "8\n",
      "9\n",
      "10\n",
      "11\n"
     ]
    }
   ],
   "source": [
    "#np.genfromtxt('./consumption.csv',delimiter=',')\n",
    "counter=0;\n",
    "time_row=[];\n",
    "first_row=[];\n",
    "second_row=[];\n",
    "with open('consumption.csv') as csvfile:\n",
    "    reader = csv.DictReader(csvfile, delimiter=',')\n",
    "    for row in reader:\n",
    "        print(counter)\n",
    "        #print(row)\n",
    "        l_row=list(row)\n",
    "        \n",
    "        if counter==0:\n",
    "            time_arr=np.array(l_row)\n",
    "        elif counter==1:\n",
    "            first_arr=np.array(l_row)\n",
    "        elif counter==2:\n",
    "            second_arr=np.array(l_row)\n",
    "        if counter>10:\n",
    "            break\n",
    "        counter+=1;\n",
    "            "
   ]
  },
  {
   "cell_type": "code",
   "execution_count": 15,
   "metadata": {},
   "outputs": [
    {
     "name": "stdout",
     "output_type": "stream",
     "text": [
      "(17521,)\n",
      "(17521,)\n",
      "2017-12-31 23:30:00\n",
      "2017-12-31 23:30:00\n"
     ]
    }
   ],
   "source": [
    "print(first_arr.shape)\n",
    "print(second_arr.shape)\n",
    "print(first_arr[17520])\n",
    "print(second_arr[17520])\n",
    "#print(first_arr.ndim)"
   ]
  },
  {
   "cell_type": "markdown",
   "metadata": {},
   "source": [
    "# Panda"
   ]
  },
  {
   "cell_type": "markdown",
   "metadata": {},
   "source": [
    "Panda is a library meant for loading data sets \n",
    "it requires far less ram to load the entire data said aswell as being easier to implement"
   ]
  },
  {
   "cell_type": "code",
   "execution_count": 2,
   "metadata": {},
   "outputs": [],
   "source": [
    "import pandas as pd\n",
    "df = pd.read_csv('consumption.csv')"
   ]
  },
  {
   "cell_type": "code",
   "execution_count": 20,
   "metadata": {
    "scrolled": true
   },
   "outputs": [
    {
     "name": "stdout",
     "output_type": "stream",
     "text": [
      "                                        meter_id  2017-01-01 00:00:00  \\\n",
      "0     0xa62b9f23553ff183f61e2bf943aab3d5983d02d7                  NaN   \n",
      "1     0x459c834d1f6cfb5b734b82aa9f5410fa97fb70da                  NaN   \n",
      "2     0x4a1ed36825360a058cec2bdd409fc2459e1ce54f                  NaN   \n",
      "3     0x5b76d3c0e0aefc6e0a8d1d031f96388a23263407                  NaN   \n",
      "4     0x943ebe39ef2be6ef807c42c5a647e27112ca5b0f                  NaN   \n",
      "...                                          ...                  ...   \n",
      "3243  0x7dd7a7b8ee1bec7c44b24f738c752482f6161065                0.011   \n",
      "3244  0xfdaf9f857621ec06f2cf801f42a020a322835090                0.015   \n",
      "3245  0xd28f2f001e0cd4d6c121a3cb2e1427207e170e18                0.222   \n",
      "3246  0x47218b46abb2fcaade487a211911406dc6e13730                0.195   \n",
      "3247  0xcd19e6fe3d887bc5dcac7ca18d46199695463fdd                0.023   \n",
      "\n",
      "      2017-01-01 00:30:00  2017-01-01 01:00:00  2017-01-01 01:30:00  \\\n",
      "0                     NaN                  NaN                  NaN   \n",
      "1                     NaN                  NaN                  NaN   \n",
      "2                     NaN                  NaN                  NaN   \n",
      "3                     NaN                  NaN                  NaN   \n",
      "4                     NaN                  NaN                  NaN   \n",
      "...                   ...                  ...                  ...   \n",
      "3243                1.089                0.014                0.204   \n",
      "3244                1.523                0.105                0.296   \n",
      "3245                0.276                0.097                0.058   \n",
      "3246                2.881                1.765                1.391   \n",
      "3247                2.307                1.403                1.471   \n",
      "\n",
      "      2017-01-01 02:00:00  2017-01-01 02:30:00  2017-01-01 03:00:00  \\\n",
      "0                     NaN                  NaN                  NaN   \n",
      "1                     NaN                  NaN                  NaN   \n",
      "2                     NaN                  NaN                  NaN   \n",
      "3                     NaN                  NaN                  NaN   \n",
      "4                     NaN                  NaN                  NaN   \n",
      "...                   ...                  ...                  ...   \n",
      "3243                0.015                0.159                0.014   \n",
      "3244                0.067                0.171                0.025   \n",
      "3245                0.045                0.045                0.038   \n",
      "3246                1.609                1.362                1.352   \n",
      "3247                1.421                1.305                1.299   \n",
      "\n",
      "      2017-01-01 03:30:00  2017-01-01 04:00:00  ...  2017-12-31 19:00:00  \\\n",
      "0                     NaN                  NaN  ...                0.052   \n",
      "1                     NaN                  NaN  ...                0.402   \n",
      "2                     NaN                  NaN  ...                0.110   \n",
      "3                     NaN                  NaN  ...                0.118   \n",
      "4                     NaN                  NaN  ...                0.022   \n",
      "...                   ...                  ...  ...                  ...   \n",
      "3243                0.013                0.174  ...                0.176   \n",
      "3244                0.260                0.013  ...                0.022   \n",
      "3245                0.034                0.043  ...                0.144   \n",
      "3246                1.321                0.701  ...                0.186   \n",
      "3247                0.657                0.054  ...                0.182   \n",
      "\n",
      "      2017-12-31 19:30:00  2017-12-31 20:00:00  2017-12-31 20:30:00  \\\n",
      "0                   0.091                0.083                0.082   \n",
      "1                   0.639                0.537                0.834   \n",
      "2                   0.123                0.012                0.034   \n",
      "3                   0.096                0.135                0.041   \n",
      "4                   0.010                0.036                0.006   \n",
      "...                   ...                  ...                  ...   \n",
      "3243                0.200                0.184                0.177   \n",
      "3244                0.009                0.028                0.020   \n",
      "3245                0.169                0.145                0.200   \n",
      "3246                0.163                0.170                0.175   \n",
      "3247                0.182                0.194                0.187   \n",
      "\n",
      "      2017-12-31 21:00:00  2017-12-31 21:30:00  2017-12-31 22:00:00  \\\n",
      "0                   0.090                0.074                0.092   \n",
      "1                   0.868                0.394                0.073   \n",
      "2                   0.006                0.027                0.001   \n",
      "3                   0.018                0.057                0.018   \n",
      "4                   0.024                0.014                0.028   \n",
      "...                   ...                  ...                  ...   \n",
      "3243                0.182                0.201                0.181   \n",
      "3244                0.010                0.009                0.008   \n",
      "3245                0.170                0.127                0.135   \n",
      "3246                0.167                0.185                0.171   \n",
      "3247                0.170                0.200                0.203   \n",
      "\n",
      "      2017-12-31 22:30:00  2017-12-31 23:00:00  2017-12-31 23:30:00  \n",
      "0                   0.076                0.055                0.036  \n",
      "1                   0.077                0.049                0.048  \n",
      "2                   0.044                0.004                0.035  \n",
      "3                   0.038                0.040                0.014  \n",
      "4                   0.006                0.024                0.025  \n",
      "...                   ...                  ...                  ...  \n",
      "3243                0.181                0.177                0.198  \n",
      "3244                0.033                0.015                0.013  \n",
      "3245                0.200                0.118                0.106  \n",
      "3246                0.196                0.260                0.318  \n",
      "3247                0.203                0.190                0.186  \n",
      "\n",
      "[3248 rows x 17521 columns]\n"
     ]
    }
   ],
   "source": [
    "print(df)"
   ]
  },
  {
   "cell_type": "markdown",
   "metadata": {},
   "source": [
    "iloc allow us to select an entire row of the data, which corresponds to one meter <br>\n",
    "This row is converted to a numpy array which might be easier to input in a ML algorithme "
   ]
  },
  {
   "cell_type": "code",
   "execution_count": 13,
   "metadata": {},
   "outputs": [],
   "source": [
    "row3=df.iloc[3]\n",
    "n_row3=row3.to_numpy()"
   ]
  },
  {
   "cell_type": "code",
   "execution_count": 14,
   "metadata": {},
   "outputs": [
    {
     "name": "stdout",
     "output_type": "stream",
     "text": [
      "['0x5b76d3c0e0aefc6e0a8d1d031f96388a23263407' nan nan ... 0.038 0.04\n",
      " 0.013999999999999999]\n"
     ]
    }
   ],
   "source": [
    "print(n_row3)"
   ]
  },
  {
   "cell_type": "markdown",
   "metadata": {},
   "source": [
    "Calculating the mean at each time step and plotting it"
   ]
  },
  {
   "cell_type": "code",
   "execution_count": 8,
   "metadata": {},
   "outputs": [],
   "source": [
    "mdf=df.mean()"
   ]
  },
  {
   "cell_type": "code",
   "execution_count": 3,
   "metadata": {},
   "outputs": [],
   "source": [
    "import matplotlib.pyplot as plt"
   ]
  },
  {
   "cell_type": "code",
   "execution_count": 11,
   "metadata": {},
   "outputs": [
    {
     "data": {
      "text/plain": [
       "<AxesSubplot:ylabel='Mean half hourly energy usage in kWh'>"
      ]
     },
     "execution_count": 11,
     "metadata": {},
     "output_type": "execute_result"
    },
    {
     "data": {
      "image/png": "[encoded data removed]",
      "text/plain": [
       "<Figure size 432x288 with 1 Axes>"
      ]
     },
     "metadata": {
      "needs_background": "light"
     },
     "output_type": "display_data"
    }
   ],
   "source": [
    "plt.close('all')\n",
    "fig, ax = plt.subplots()\n",
    "ax.set_ylabel('Mean half hourly energy usage in kWh')\n",
    "mdf.plot()\n"
   ]
  },
  {
   "cell_type": "code",
   "execution_count": 4,
   "metadata": {},
   "outputs": [],
   "source": [
    "all_but_dec=df.loc[:,\"2017-01-01 00:00:00\":\"2017-11-30 23:30:00\"]\n",
    "dec=df.loc[:,\"2017-12-01 00:00:00\":\"2017-12-31 23:30:00\"]"
   ]
  },
  {
   "cell_type": "code",
   "execution_count": 5,
   "metadata": {},
   "outputs": [],
   "source": [
    "mean_all_but_dec=all_but_dec.mean();\n",
    "mean_dec=dec.mean();"
   ]
  },
  {
   "cell_type": "code",
   "execution_count": 6,
   "metadata": {},
   "outputs": [],
   "source": [
    "def get_monthi(n):\n",
    "    begin=48*31*(n-1)+1\n",
    "    end=48*31*n\n",
    "    if n==1:\n",
    "        begin=0\n",
    "    if n>1:\n",
    "        end-=3*48\n",
    "    if n>2:\n",
    "        begin-=3*48\n",
    "    if n>3:\n",
    "        end-=48\n",
    "    if n>4:\n",
    "        begin-=48\n",
    "    if n>5:\n",
    "        end-=48\n",
    "    if n>6:\n",
    "        begin-=48\n",
    "    if n>8:\n",
    "        end-=48\n",
    "    if n>9:\n",
    "        begin-=48\n",
    "    if n>10:\n",
    "        end-=48\n",
    "    if n>11:\n",
    "        begin-=48\n",
    "    return begin,end\n"
   ]
  },
  {
   "cell_type": "code",
   "execution_count": 95,
   "metadata": {},
   "outputs": [
    {
     "name": "stdout",
     "output_type": "stream",
     "text": [
      "8689\n",
      "10176\n",
      "14593\n",
      "16032\n"
     ]
    },
    {
     "data": {
      "text/plain": [
       "2017-11-01 00:30:00    0.181391\n",
       "2017-11-01 01:00:00    0.163065\n",
       "2017-11-01 01:30:00    0.160891\n",
       "2017-11-01 02:00:00    0.155957\n",
       "2017-11-01 02:30:00    0.142326\n",
       "                         ...   \n",
       "2017-11-30 21:30:00    0.269901\n",
       "2017-11-30 22:00:00    0.251477\n",
       "2017-11-30 22:30:00    0.225684\n",
       "2017-11-30 23:00:00    0.189652\n",
       "2017-11-30 23:30:00    0.160507\n",
       "Length: 1439, dtype: float64"
      ]
     },
     "execution_count": 95,
     "metadata": {},
     "output_type": "execute_result"
    }
   ],
   "source": [
    "begin,end = get_monthi(7)\n",
    "print(begin)\n",
    "print(end)\n",
    "begin,end = get_monthi(11)\n",
    "print(begin)\n",
    "print(end)\n",
    "mean_all_but_dec[begin:end]"
   ]
  },
  {
   "cell_type": "code",
   "execution_count": 22,
   "metadata": {
    "scrolled": true
   },
   "outputs": [
    {
     "name": "stdout",
     "output_type": "stream",
     "text": [
      "2017-01-01 00:00:00    0.166211\n",
      "2017-01-01 00:30:00    0.305056\n",
      "2017-01-01 01:00:00    0.238358\n",
      "2017-01-01 01:30:00    0.226979\n",
      "2017-01-01 02:00:00    0.223267\n",
      "                         ...   \n",
      "2017-01-31 21:30:00    0.252355\n",
      "2017-01-31 22:00:00    0.263113\n",
      "2017-01-31 22:30:00    0.206942\n",
      "2017-01-31 23:00:00    0.175673\n",
      "2017-01-31 23:30:00    0.166900\n",
      "Length: 1488, dtype: float64\n",
      "393.30207189973595\n"
     ]
    },
    {
     "data": {
      "text/plain": [
       "(1488,)"
      ]
     },
     "execution_count": 22,
     "metadata": {},
     "output_type": "execute_result"
    }
   ],
   "source": [
    "mean_jan=mean_all_but_dec[0:48*31]\n",
    "print(mean_jan)\n",
    "print(mean_jan.sum())\n",
    "mean_jan.shape"
   ]
  },
  {
   "cell_type": "code",
   "execution_count": 7,
   "metadata": {},
   "outputs": [],
   "source": [
    "means=[]\n",
    "for i in range(11):\n",
    "    begin,end=get_monthi(i+1)\n",
    "    mean_month=mean_all_but_dec[begin:end]\n",
    "    means.append(mean_month.mean())"
   ]
  },
  {
   "cell_type": "code",
   "execution_count": 8,
   "metadata": {},
   "outputs": [],
   "source": [
    "mean_dec=mean_dec.mean()\n",
    "means.append(mean_dec)"
   ]
  },
  {
   "cell_type": "code",
   "execution_count": 96,
   "metadata": {},
   "outputs": [
    {
     "name": "stdout",
     "output_type": "stream",
     "text": [
      "2017-11-01 00:30:00    0.181391\n",
      "2017-11-01 01:00:00    0.163065\n",
      "2017-11-01 01:30:00    0.160891\n",
      "2017-11-01 02:00:00    0.155957\n",
      "2017-11-01 02:30:00    0.142326\n",
      "                         ...   \n",
      "2017-11-29 22:00:00    0.249476\n",
      "2017-11-29 22:30:00    0.219122\n",
      "2017-11-29 23:00:00    0.185112\n",
      "2017-11-29 23:30:00    0.159337\n",
      "2017-11-30 00:00:00    0.142152\n",
      "Length: 1392, dtype: float64\n"
     ]
    }
   ],
   "source": [
    "print(mean_month)"
   ]
  },
  {
   "cell_type": "code",
   "execution_count": 11,
   "metadata": {},
   "outputs": [
    {
     "name": "stdout",
     "output_type": "stream",
     "text": [
      "[ 1.  2.  3.  4.  5.  6.  7.  8.  9. 10. 11. 12.]\n",
      "0.1933189073955825\n",
      "[ 9 10 11 12]\n"
     ]
    }
   ],
   "source": [
    "months=np.linspace(1,12,12)\n",
    "print(months)\n",
    "average_guess=np.mean(means[0:8])\n",
    "avg_arr=average_guess*np.ones(4)\n",
    "print(average_guess)\n",
    "naive_guess=means[8]\n",
    "naive_arr=naive_guess*np.ones(4)\n",
    "end_months=np.arange(9,13,1)\n",
    "print(end_months)"
   ]
  },
  {
   "cell_type": "code",
   "execution_count": 15,
   "metadata": {},
   "outputs": [
    {
     "name": "stdout",
     "output_type": "stream",
     "text": [
      "0.15925488720234565\n"
     ]
    }
   ],
   "source": [
    "#drift method\n",
    "ydrift=average_guess+3*(naive_guess-means[0])/(9-1)\n",
    "print(ydrift)\n",
    "drift_arr=np.array([naive_guess,ydrift])\n",
    "drift_months=np.array([9,12])"
   ]
  },
  {
   "cell_type": "code",
   "execution_count": 14,
   "metadata": {},
   "outputs": [
    {
     "name": "stdout",
     "output_type": "stream",
     "text": [
      "0.22728243444769936\n"
     ]
    }
   ],
   "source": [
    "#naive drift method\n",
    "nydrift=naive_guess+((means[8]-means[7])/(9-8))*(12-9);\n",
    "print(nydrift)\n",
    "ndrift_arr=np.array([naive_guess,nydrift])"
   ]
  },
  {
   "cell_type": "code",
   "execution_count": 16,
   "metadata": {},
   "outputs": [
    {
     "name": "stdout",
     "output_type": "stream",
     "text": [
      "12\n",
      "0.2862184665099131\n"
     ]
    },
    {
     "data": {
      "image/png": "[encoded data removed]",
      "text/plain": [
       "<Figure size 432x288 with 1 Axes>"
      ]
     },
     "metadata": {
      "needs_background": "light"
     },
     "output_type": "display_data"
    }
   ],
   "source": [
    "print(len(means))\n",
    "print(mean_dec)\n",
    "plt.plot(months,means,label='Actual data')\n",
    "plt.plot(end_months,avg_arr,label='Average guess')\n",
    "plt.plot(end_months,naive_arr,label='Naive guess')\n",
    "plt.plot(drift_months,drift_arr,label='Drift method')\n",
    "plt.plot(drift_months,ndrift_arr,label='Naive drift method')\n",
    "plt.legend()\n",
    "plt.show()"
   ]
  },
  {
   "cell_type": "markdown",
   "metadata": {},
   "source": [
    "mean_jan=all_but_dec.mean(0:48*30-1)"
   ]
  },
  {
   "cell_type": "markdown",
   "metadata": {},
   "source": [
    "## Amount of each month in the data"
   ]
  },
  {
   "cell_type": "code",
   "execution_count": 4,
   "metadata": {},
   "outputs": [],
   "source": [
    "import pandas as pd\n",
    "import numpy as np\n",
    "import matplotlib.pyplot as plt\n",
    "from sklearn import linear_model\n",
    "from sklearn.linear_model import LinearRegression\n",
    "from sklearn.metrics import mean_squared_error, r2_score\n",
    "from sklearn.preprocessing import PolynomialFeatures\n",
    "from sklearn.pipeline import make_pipeline\n",
    "from sklearn.model_selection import train_test_split\n",
    "from sklearn.model_selection import KFold"
   ]
  },
  {
   "cell_type": "code",
   "execution_count": 6,
   "metadata": {},
   "outputs": [],
   "source": [
    "#setup\n",
    "df = pd.read_csv(\"consumption.csv\")\n",
    "weather_avg = pd.read_csv('weather-avg.csv')\n",
    "weather_min = pd.read_csv('weather-min.csv')\n",
    "weather_max = pd.read_csv('weather-max.csv')\n",
    "info = pd.read_csv('addinfo.csv')\n",
    "weather_avg = weather_avg.set_index(\"meter_id\")\n",
    "weather_min = weather_min.set_index(\"meter_id\")\n",
    "weather_max = weather_max.set_index(\"meter_id\")\n",
    "info = info.set_index(\"meter_id\")\n",
    "weather_avg_sorted = weather_avg.reindex(df.iloc[:,0])\n",
    "weather_min_sorted = weather_min.reindex(df.iloc[:,0])\n",
    "weather_max_sorted = weather_max.reindex(df.iloc[:,0])\n",
    "info_sorted = info.reindex(df.iloc[:,0])\n",
    "brinfo=info_sorted['num_bedrooms']\n",
    "values = {'num_bedrooms' : brinfo.mean()}\n",
    "info_filled_br = info_sorted.fillna(value = values)\n",
    "brinfo_filled = info_filled_br['num_bedrooms']"
   ]
  },
  {
   "cell_type": "code",
   "execution_count": 10,
   "metadata": {},
   "outputs": [
    {
     "data": {
      "text/plain": [
       "meter_id\n",
       "0xa62b9f23553ff183f61e2bf943aab3d5983d02d7    2.0\n",
       "0x459c834d1f6cfb5b734b82aa9f5410fa97fb70da   -1.0\n",
       "0x4a1ed36825360a058cec2bdd409fc2459e1ce54f   -1.0\n",
       "0x5b76d3c0e0aefc6e0a8d1d031f96388a23263407   -1.0\n",
       "0x943ebe39ef2be6ef807c42c5a647e27112ca5b0f   -1.0\n",
       "                                             ... \n",
       "0x7dd7a7b8ee1bec7c44b24f738c752482f6161065   -1.0\n",
       "0xfdaf9f857621ec06f2cf801f42a020a322835090   -1.0\n",
       "0xd28f2f001e0cd4d6c121a3cb2e1427207e170e18   -1.0\n",
       "0x47218b46abb2fcaade487a211911406dc6e13730   -1.0\n",
       "0xcd19e6fe3d887bc5dcac7ca18d46199695463fdd   -1.0\n",
       "Name: num_bedrooms, Length: 3248, dtype: float64"
      ]
     },
     "execution_count": 10,
     "metadata": {},
     "output_type": "execute_result"
    }
   ],
   "source": [
    "#functions\n",
    "def get_monthi(n):\n",
    "    begin=48*31*(n-1)+1\n",
    "    end=48*31*n\n",
    "    if n==1:\n",
    "        begin=1\n",
    "    if n>1:\n",
    "        end-=3*48\n",
    "    if n>2:\n",
    "        begin-=3*48\n",
    "    if n>3:\n",
    "        end-=48\n",
    "    if n>4:\n",
    "        begin-=48\n",
    "    if n>5:\n",
    "        end-=48\n",
    "    if n>6:\n",
    "        begin-=48\n",
    "    if n>8:\n",
    "        end-=48\n",
    "    if n>9:\n",
    "        begin-=48\n",
    "    if n>10:\n",
    "        end-=48\n",
    "    if n>11:\n",
    "        begin-=48\n",
    "    return begin,end\n",
    "\n",
    "def get_mean_temp(row,month):\n",
    "    \"\"\"\n",
    "    row: is the row (meter_id) we would like to get the average temperature for.\n",
    "    month: which month (columns) we would get the average temperature for.\n",
    "    returns: the average temperature for a specific meter_id for a specific month.\n",
    "    \"\"\"\n",
    "    if month==1:\n",
    "        return row.loc[:,\"2017-01-01 00:00:00\":\"2017-01-31 00:00:00\"].mean(1)\n",
    "    elif month==2:\n",
    "        return row.loc[:,\"2017-02-01 00:00:00\":\"2017-02-28 00:00:00\"].mean(1)\n",
    "    elif month==3:\n",
    "        return row.loc[:,\"2017-03-01 00:00:00\":\"2017-03-31 00:00:00\"].mean(1)\n",
    "    elif month==4:\n",
    "        return row.loc[:,\"2017-04-01 00:00:00\":\"2017-04-30 00:00:00\"].mean(1)\n",
    "    elif month==5:\n",
    "        return row.loc[:,\"2017-05-01 00:00:00\":\"2017-05-31 00:00:00\"].mean(1)\n",
    "    elif month==6:\n",
    "        return row.loc[:,\"2017-06-01 00:00:00\":\"2017-06-30 00:00:00\"].mean(1)\n",
    "    elif month==7:\n",
    "        return row.loc[:,\"2017-07-01 00:00:00\":\"2017-07-31 00:00:00\"].mean(1)\n",
    "    elif month==8:\n",
    "        return row.loc[:,\"2017-08-01 00:00:00\":\"2017-08-31 00:00:00\"].mean(1)\n",
    "    elif month==9:\n",
    "        return row.loc[:,\"2017-09-01 00:00:00\":\"2017-09-30 00:00:00\"].mean(1)\n",
    "    elif month==10:\n",
    "        return row.loc[:,\"2017-10-01 00:00:00\":\"2017-10-31 00:00:00\"].mean(1)\n",
    "    elif month==11:\n",
    "        return row.loc[:,\"2017-11-01 00:00:00\":\"2017-11-30 00:00:00\"].mean(1)\n",
    "    elif month==12:\n",
    "        return row.loc[:,\"2017-12-01 00:00:00\":\"2017-12-31 00:00:00\"].mean(1)\n",
    "    else:\n",
    "        print(\"Error: this is not a valid input for month\")\n",
    "\n",
    "values = {'num_bedrooms' : -1}\n",
    "info_filled_br_dummy = info_sorted.fillna(value = values)\n",
    "brinfo_filled_dummy = info_filled_br_dummy['num_bedrooms']\n",
    "brinfo_filled_dummy"
   ]
  },
  {
   "cell_type": "code",
   "execution_count": 2,
   "metadata": {},
   "outputs": [],
   "source": [
    "#function from Kfold encoding and past data notebook\n",
    "def sort_data(nim):\n",
    "    NaN_t=1200\n",
    "    En_con=[]\n",
    "    #number of input months (if nim=1 we should get the same as before)\n",
    "    #this is the amount of months we want in our input space to predict the next monthly consumption     \n",
    "    prev_con=[] #previous consumtion\n",
    "    #extra info\n",
    "    temps=[]\n",
    "    temps_min=[]\n",
    "    temps_max=[]\n",
    "    month_arr=[]\n",
    "    br_arr=[]\n",
    "    br_arr_dummy=[]\n",
    "    dwelling_type_bungalow=[]\n",
    "    dwelling_type_detached_house=[]\n",
    "    dwelling_type_flat=[]\n",
    "    dwelling_type_semi_detached_house=[]\n",
    "    dwelling_type_terraced_house=[]\n",
    "    y = pd.get_dummies(info_sorted.dwelling_type, prefix='dwelling_type')\n",
    "    \n",
    "    \n",
    "    for i in range(df.shape[0]): # loop over all users\n",
    "        meter=df.iloc[i] # = row number i  \n",
    "    \n",
    "        #loop over all month from januari until month 12-nim\n",
    "        #if the month is higher then this we don't have enough data for the nim input variables and the 1 output variable\n",
    "        for m in range (1,13-nim): \n",
    "            #load current month\n",
    "            bi, ei =get_monthi(m)               #bi (begin index) ei(end index)\n",
    "            month=meter[bi:ei]  #data for the month m for the row user (row) i\n",
    "            #load bedroom info\n",
    "            row = brinfo_filled[i:i+1]\n",
    "            row_dummy = brinfo_filled_dummy[i:i+1]\n",
    "            #Load dwelling type\n",
    "            dew_type_row = y[i:i+1]\n",
    "            \n",
    "            # Count the amount of NaN's in current      \n",
    "            n_NaN=month.isnull().sum() \n",
    "\n",
    "            # Check if months have numeric values otherwise discard the month for this user. \n",
    "            if n_NaN<NaN_t:\n",
    "                for j in range(m,13-nim):\n",
    "                    #save input for month j,j+1,..,j+nim-1\n",
    "                    input_months=np.zeros(nim)\n",
    "                    for k in range(nim):\n",
    "                        #load month for input j+k\n",
    "                        bik,eik=get_monthi(j+k)\n",
    "                        input_months[k]=meter[bik:eik].mean()\n",
    "                    #debug if statement checks for NaN in input month\n",
    "                    if np.isnan(np.sum(input_months)):\n",
    "                        print(\"months=%i index=%i\" %(j,i))\n",
    "                        print(input_months)\n",
    "                    prev_con.append(input_months)\n",
    "                    #save output for month j+nim\n",
    "                    bio,eio=get_monthi(j+nim)\n",
    "                    En_con.append(meter[bio:eio].mean())\n",
    "                    #save extra information \n",
    "                    temps.append(get_mean_temp(weather_avg_sorted.iloc[i:i+1],j+nim))\n",
    "                    temps_min.append(get_mean_temp(weather_min_sorted.iloc[i:i+1],j+nim))\n",
    "                    temps_max.append(get_mean_temp(weather_max_sorted.iloc[i:i+1],j+nim))\n",
    "                    month_arr.append(j+nim)\n",
    "                    br_arr.append(row[0])\n",
    "                    br_arr_dummy.append(row_dummy[0])\n",
    "                    dwelling_type_bungalow.append(dew_type_row.iloc[0, 0])\n",
    "                    dwelling_type_detached_house.append(dew_type_row.iloc[0, 1])\n",
    "                    dwelling_type_flat.append(dew_type_row.iloc[0, 2])\n",
    "                    dwelling_type_semi_detached_house.append(dew_type_row.iloc[0, 3])\n",
    "                    dwelling_type_terraced_house.append(dew_type_row.iloc[0, 4])\n",
    "\n",
    "                    \n",
    "                \n",
    "                \n",
    "                #break out of outer month loops since the inner month loop takes care of all months\n",
    "                break\n",
    "    # converting list to numpy arrays: \n",
    "    nptemps = np.zeros(len(temps))\n",
    "    nptemps_min = np.zeros(len(temps_min))\n",
    "    nptemps_max = np.zeros(len(temps_max))\n",
    "    npEn_con = np.zeros(len(En_con))\n",
    "    npmonth_arr = np.zeros(len(month_arr))\n",
    "    npbr_arr = np.zeros(len(br_arr)) #converting it into numpy array.\n",
    "    npbr_arr_dummy = np.zeros(len(br_arr_dummy)) #converting it into numpy array.\n",
    "\n",
    "    for i in range(len(temps)):\n",
    "         nptemps[i] = temps[i]\n",
    "\n",
    "    for i in range(len(temps_min)):\n",
    "         nptemps_min[i] = temps_min[i]\n",
    "\n",
    "    for i in range(len(temps_max)):\n",
    "         nptemps_max[i] = temps_max[i]\n",
    "\n",
    "    for i in range(len(En_con)):\n",
    "         npEn_con[i] = En_con[i]\n",
    "\n",
    "    for i in range(len(month_arr)):\n",
    "         npmonth_arr[i] = month_arr[i]\n",
    "\n",
    "    for i in range(len(br_arr)):\n",
    "        npbr_arr[i] = br_arr[i]        \n",
    "    \n",
    "    for i in range(len(br_arr_dummy)):\n",
    "        npbr_arr_dummy[i] = br_arr_dummy[i]\n",
    "        \n",
    "    npprev_con=np.array(prev_con)\n",
    "    dw_t_b = np.array(dwelling_type_bungalow)\n",
    "    dw_t_d = np.array(dwelling_type_detached_house)\n",
    "    dw_t_f = np.array(dwelling_type_flat)\n",
    "    dw_t_s = np.array(dwelling_type_semi_detached_house)\n",
    "    dw_t_t = np.array(dwelling_type_terraced_house)\n",
    "    \n",
    "    #This should probably be done differently \n",
    "    return npEn_con,npprev_con,nptemps,nptemps_min,nptemps_max,npmonth_arr,npbr_arr,npbr_arr_dummy,dw_t_b,dw_t_d,dw_t_f,dw_t_s,dw_t_t\n",
    "    "
   ]
  },
  {
   "cell_type": "code",
   "execution_count": 11,
   "metadata": {},
   "outputs": [],
   "source": [
    "#nim=1\n",
    "npEn_con1,npprev_con1,nptemps1,nptemps_min1,nptemps_max1,npmonth_arr1,npbr_arr1,npbr_arr_dummy1,dw_t_b1,dw_t_d1,dw_t_f1,dw_t_s1,dw_t_t1=sort_data(1)\n",
    "#nim=2\n",
    "npEn_con2,npprev_con2,nptemps2,nptemps_min2,nptemps_max2,npmonth_arr2,npbr_arr2,npbr_arr_dummy2,dw_t_b2,dw_t_d2,dw_t_f2,dw_t_s2,dw_t_t2=sort_data(2)\n",
    "#nim=3\n",
    "npEn_con3,npprev_con3,nptemps3,nptemps_min3,nptemps_max3,npmonth_arr3,npbr_arr3,npbr_arr_dummy3,dw_t_b3,dw_t_d3,dw_t_f3,dw_t_s3,dw_t_t3=sort_data(3)"
   ]
  },
  {
   "cell_type": "code",
   "execution_count": 54,
   "metadata": {},
   "outputs": [
    {
     "data": {
      "image/png": "[encoded data removed]",
      "text/plain": [
       "<Figure size 432x288 with 1 Axes>"
      ]
     },
     "metadata": {
      "needs_background": "light"
     },
     "output_type": "display_data"
    }
   ],
   "source": [
    "bins=np.arange(0,13)\n",
    "mn,mbins,mpatches=plt.hist(npmonth_arr1-1, bins)\n",
    "plt.show()"
   ]
  },
  {
   "cell_type": "code",
   "execution_count": 56,
   "metadata": {},
   "outputs": [
    {
     "data": {
      "image/png": "[encoded data removed]",
      "text/plain": [
       "<Figure size 432x288 with 1 Axes>"
      ]
     },
     "metadata": {
      "needs_background": "light"
     },
     "output_type": "display_data"
    }
   ],
   "source": [
    "bins=np.arange(0,13)\n",
    "mn2,mbins2,mpatches2=plt.hist(npmonth_arr2-1, bins)\n",
    "plt.show()"
   ]
  },
  {
   "cell_type": "code",
   "execution_count": 57,
   "metadata": {},
   "outputs": [
    {
     "data": {
      "image/png": "[encoded data removed]",
      "text/plain": [
       "<Figure size 432x288 with 1 Axes>"
      ]
     },
     "metadata": {
      "needs_background": "light"
     },
     "output_type": "display_data"
    }
   ],
   "source": [
    "bins=np.arange(0,13)\n",
    "mn3,mbins3,mpatches3=plt.hist(npmonth_arr3-1, bins)\n",
    "plt.show()"
   ]
  },
  {
   "cell_type": "code",
   "execution_count": 58,
   "metadata": {
    "scrolled": true
   },
   "outputs": [
    {
     "name": "stdout",
     "output_type": "stream",
     "text": [
      "0\n",
      "0\n",
      "0\n",
      "269\n",
      "0\n",
      "0\n",
      "540\n",
      "269\n",
      "0\n",
      "810\n",
      "540\n",
      "269\n",
      "[   0.  269.  540.  810. 1080. 1351. 1622. 1893. 2164. 2435. 2704. 2977.]\n",
      "[   0.    0.  269.  540.  810. 1080. 1351. 1622. 1893. 2164. 2435. 2704.]\n",
      "[   0.    0.    0.  269.  540.  810. 1080. 1351. 1622. 1893. 2164. 2435.]\n"
     ]
    }
   ],
   "source": [
    "print(np.count_nonzero(npmonth_arr1 == 1)) #there are no januari months in here which is strange\n",
    "print(np.count_nonzero(npmonth_arr2 == 1)) #there are no januari months in here which is strange\n",
    "print(np.count_nonzero(npmonth_arr3 == 1)) #there are no januari months in here which is strange\n",
    "\n",
    "print(np.count_nonzero(npmonth_arr1 == 2)) #there are no febuari months in here which is strange\n",
    "print(np.count_nonzero(npmonth_arr2 == 2)) #there are no febuari months in here which is strange\n",
    "print(np.count_nonzero(npmonth_arr3 == 2)) #there are no febuari months in here which is strange\n",
    "\n",
    "print(np.count_nonzero(npmonth_arr1 == 3)) #there are no febuari months in here which is strange\n",
    "print(np.count_nonzero(npmonth_arr2 == 3)) #there are no febuari months in here which is strange\n",
    "print(np.count_nonzero(npmonth_arr3 == 3)) #there are no febuari months in here which is strange\n",
    "\n",
    "print(np.count_nonzero(npmonth_arr1 == 4)) #there are no febuari months in here which is strange\n",
    "print(np.count_nonzero(npmonth_arr2 == 4)) #there are no febuari months in here which is strange\n",
    "print(np.count_nonzero(npmonth_arr3 == 4)) #there are no febuari months in here which is strange\n",
    "\n",
    "print(mn)\n",
    "print(mn2)\n",
    "print(mn3)\n",
    "#in hindsight these result makes sense because in the case of 3 previous months we need the current month and the 2 previous\n",
    "#months to predict the next month"
   ]
  },
  {
   "cell_type": "code",
   "execution_count": 59,
   "metadata": {},
   "outputs": [],
   "source": [
    "#nim=0\n",
    "npEn_con0,npprev_con0,nptemps1,nptemps_min1,nptemps_max1,npmonth_arr0,npbr_arr1,npbr_arr_dummy1,dw_t_b1,dw_t_d1,dw_t_f1,dw_t_s1,dw_t_t1=sort_data(0)"
   ]
  },
  {
   "cell_type": "code",
   "execution_count": 2,
   "metadata": {},
   "outputs": [
    {
     "ename": "NameError",
     "evalue": "name 'npmonth_arr0' is not defined",
     "output_type": "error",
     "traceback": [
      "\u001b[1;31m---------------------------------------------------------------------------\u001b[0m",
      "\u001b[1;31mNameError\u001b[0m                                 Traceback (most recent call last)",
      "\u001b[1;32m<ipython-input-2-a1a6e6b7d93e>\u001b[0m in \u001b[0;36m<module>\u001b[1;34m\u001b[0m\n\u001b[1;32m----> 1\u001b[1;33m \u001b[0mprint\u001b[0m\u001b[1;33m(\u001b[0m\u001b[0mnpmonth_arr0\u001b[0m\u001b[1;33m.\u001b[0m\u001b[0mshape\u001b[0m\u001b[1;33m)\u001b[0m\u001b[1;33m\u001b[0m\u001b[1;33m\u001b[0m\u001b[0m\n\u001b[0m\u001b[0;32m      2\u001b[0m \u001b[0mbins\u001b[0m\u001b[1;33m=\u001b[0m\u001b[0mnp\u001b[0m\u001b[1;33m.\u001b[0m\u001b[0marange\u001b[0m\u001b[1;33m(\u001b[0m\u001b[1;36m0\u001b[0m\u001b[1;33m,\u001b[0m\u001b[1;36m13\u001b[0m\u001b[1;33m)\u001b[0m\u001b[1;33m\u001b[0m\u001b[1;33m\u001b[0m\u001b[0m\n\u001b[0;32m      3\u001b[0m \u001b[0mmn0\u001b[0m\u001b[1;33m,\u001b[0m\u001b[0mmbins0\u001b[0m\u001b[1;33m,\u001b[0m\u001b[0mmpatches0\u001b[0m\u001b[1;33m=\u001b[0m\u001b[0mplt\u001b[0m\u001b[1;33m.\u001b[0m\u001b[0mhist\u001b[0m\u001b[1;33m(\u001b[0m\u001b[0mnpmonth_arr0\u001b[0m\u001b[1;33m-\u001b[0m\u001b[1;36m1\u001b[0m\u001b[1;33m,\u001b[0m \u001b[0mbins\u001b[0m\u001b[1;33m)\u001b[0m\u001b[1;33m\u001b[0m\u001b[1;33m\u001b[0m\u001b[0m\n\u001b[0;32m      4\u001b[0m \u001b[0mplt\u001b[0m\u001b[1;33m.\u001b[0m\u001b[0mshow\u001b[0m\u001b[1;33m(\u001b[0m\u001b[1;33m)\u001b[0m\u001b[1;33m\u001b[0m\u001b[1;33m\u001b[0m\u001b[0m\n",
      "\u001b[1;31mNameError\u001b[0m: name 'npmonth_arr0' is not defined"
     ]
    }
   ],
   "source": [
    "print(npmonth_arr0.shape)\n",
    "bins=np.arange(0,13)\n",
    "mn0,mbins0,mpatches0=plt.hist(npmonth_arr0-1, bins)\n",
    "plt.show()"
   ]
  },
  {
   "cell_type": "code",
   "execution_count": 1,
   "metadata": {},
   "outputs": [
    {
     "ename": "NameError",
     "evalue": "name 'mn0' is not defined",
     "output_type": "error",
     "traceback": [
      "\u001b[1;31m---------------------------------------------------------------------------\u001b[0m",
      "\u001b[1;31mNameError\u001b[0m                                 Traceback (most recent call last)",
      "\u001b[1;32m<ipython-input-1-446a9fcc7087>\u001b[0m in \u001b[0;36m<module>\u001b[1;34m\u001b[0m\n\u001b[1;32m----> 1\u001b[1;33m \u001b[0mprint\u001b[0m\u001b[1;33m(\u001b[0m\u001b[0mmn0\u001b[0m\u001b[1;33m)\u001b[0m\u001b[1;33m\u001b[0m\u001b[1;33m\u001b[0m\u001b[0m\n\u001b[0m",
      "\u001b[1;31mNameError\u001b[0m: name 'mn0' is not defined"
     ]
    }
   ],
   "source": [
    "print(mn0)"
   ]
  }
 ],
 "metadata": {
  "kernelspec": {
   "display_name": "Python 3",
   "language": "python",
   "name": "python3"
  },
  "language_info": {
   "codemirror_mode": {
    "name": "ipython",
    "version": 3
   },
   "file_extension": ".py",
   "mimetype": "text/x-python",
   "name": "python",
   "nbconvert_exporter": "python",
   "pygments_lexer": "ipython3",
   "version": "3.6.12"
  }
 },
 "nbformat": 4,
 "nbformat_minor": 4
}
