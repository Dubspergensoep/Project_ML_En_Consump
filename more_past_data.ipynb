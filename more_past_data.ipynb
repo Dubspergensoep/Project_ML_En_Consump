{
 "cells": [
  {
   "cell_type": "code",
   "execution_count": 1,
   "metadata": {},
   "outputs": [],
   "source": [
    "import pandas as pd\n",
    "import numpy as np\n",
    "import matplotlib.pyplot as plt\n",
    "from sklearn import linear_model\n",
    "from sklearn.linear_model import LinearRegression\n",
    "from sklearn.metrics import mean_squared_error, r2_score\n",
    "from sklearn.preprocessing import PolynomialFeatures\n",
    "from sklearn.pipeline import make_pipeline"
   ]
  },
  {
   "cell_type": "code",
   "execution_count": 2,
   "metadata": {},
   "outputs": [],
   "source": [
    "#setup\n",
    "df = pd.read_csv(\"consumption.csv\")\n",
    "weather_avg = pd.read_csv('weather-avg.csv')\n",
    "weather_min = pd.read_csv('weather-min.csv')\n",
    "weather_max = pd.read_csv('weather-max.csv')\n",
    "info = pd.read_csv('addinfo.csv')\n",
    "weather_avg = weather_avg.set_index(\"meter_id\")\n",
    "weather_min = weather_min.set_index(\"meter_id\")\n",
    "weather_max = weather_max.set_index(\"meter_id\")\n",
    "info = info.set_index(\"meter_id\")\n",
    "weather_avg_sorted = weather_avg.reindex(df.iloc[:,0])\n",
    "weather_min_sorted = weather_min.reindex(df.iloc[:,0])\n",
    "weather_max_sorted = weather_max.reindex(df.iloc[:,0])\n",
    "info_sorted = info.reindex(df.iloc[:,0])\n",
    "brinfo=info_sorted['num_bedrooms']\n",
    "values = {'num_bedrooms' : brinfo.mean()}\n",
    "info_filled_br = info_sorted.fillna(value = values)\n",
    "brinfo_filled = info_filled_br['num_bedrooms']\n",
    "#functions\n",
    "def get_monthi(n):\n",
    "    begin=48*31*(n-1)+1\n",
    "    end=48*31*n\n",
    "    if n==1:\n",
    "        begin=1\n",
    "    if n>1:\n",
    "        end-=3*48\n",
    "    if n>2:\n",
    "        begin-=3*48\n",
    "    if n>3:\n",
    "        end-=48\n",
    "    if n>4:\n",
    "        begin-=48\n",
    "    if n>5:\n",
    "        end-=48\n",
    "    if n>6:\n",
    "        begin-=48\n",
    "    if n>8:\n",
    "        end-=48\n",
    "    if n>9:\n",
    "        begin-=48\n",
    "    if n>10:\n",
    "        end-=48\n",
    "    if n>11:\n",
    "        begin-=48\n",
    "    return begin,end\n",
    "\n",
    "def get_mean_temp(row,month):\n",
    "    \"\"\"\n",
    "    row: is the row (meter_id) we would like to get the average temperature for.\n",
    "    month: which month (columns) we would get the average temperature for.\n",
    "    returns: the average temperature for a specific meter_id for a specific month.\n",
    "    \"\"\"\n",
    "    if month==1:\n",
    "        return row.loc[:,\"2017-01-01 00:00:00\":\"2017-01-31 00:00:00\"].mean(1)\n",
    "    elif month==2:\n",
    "        return row.loc[:,\"2017-02-01 00:00:00\":\"2017-02-28 00:00:00\"].mean(1)\n",
    "    elif month==3:\n",
    "        return row.loc[:,\"2017-03-01 00:00:00\":\"2017-03-31 00:00:00\"].mean(1)\n",
    "    elif month==4:\n",
    "        return row.loc[:,\"2017-04-01 00:00:00\":\"2017-04-30 00:00:00\"].mean(1)\n",
    "    elif month==5:\n",
    "        return row.loc[:,\"2017-05-01 00:00:00\":\"2017-05-31 00:00:00\"].mean(1)\n",
    "    elif month==6:\n",
    "        return row.loc[:,\"2017-06-01 00:00:00\":\"2017-06-30 00:00:00\"].mean(1)\n",
    "    elif month==7:\n",
    "        return row.loc[:,\"2017-07-01 00:00:00\":\"2017-07-31 00:00:00\"].mean(1)\n",
    "    elif month==8:\n",
    "        return row.loc[:,\"2017-08-01 00:00:00\":\"2017-08-31 00:00:00\"].mean(1)\n",
    "    elif month==9:\n",
    "        return row.loc[:,\"2017-09-01 00:00:00\":\"2017-09-30 00:00:00\"].mean(1)\n",
    "    elif month==10:\n",
    "        return row.loc[:,\"2017-10-01 00:00:00\":\"2017-10-31 00:00:00\"].mean(1)\n",
    "    elif month==11:\n",
    "        return row.loc[:,\"2017-11-01 00:00:00\":\"2017-11-30 00:00:00\"].mean(1)\n",
    "    elif month==12:\n",
    "        return row.loc[:,\"2017-12-01 00:00:00\":\"2017-12-31 00:00:00\"].mean(1)\n",
    "    else:\n",
    "        print(\"Error: this is not a valid input for month\")"
   ]
  },
  {
   "cell_type": "code",
   "execution_count": 62,
   "metadata": {},
   "outputs": [],
   "source": [
    "NaN_t=1200\n",
    "En_con=[]\n",
    "#number of input months (if nim=1 we should get the same as before)\n",
    "#this is the amount of months we want in our input space to predict the next monthly consumption\n",
    "nim=2       \n",
    "prev_con=[] #previous consumtion\n",
    "\n",
    "\n",
    "for i in range(df.shape[0]): # loop over all users\n",
    "    meter=df.iloc[i] # = row number i  \n",
    "    \n",
    "    #loop over all month from januari until month 12-nim\n",
    "    #if the month is higher then this we don't have enough data for the nim input variables and the 1 output variable\n",
    "    for m in range (1,13-nim): \n",
    "        #load current month\n",
    "        bi, ei =get_monthi(m)               #bi (begin index) ei(end index)\n",
    "        month=meter[bi:ei]  #data for the month m for the row user (row) i\n",
    "\n",
    "        # Count the amount of NaN's in current and last month      \n",
    "        n_NaN=month.isnull().sum() \n",
    "\n",
    "        # Check if there are any NaN's in current and last month\n",
    "        if n_NaN<NaN_t:\n",
    "            for j in range(m,13-nim):\n",
    "                #save input for month j,j+1,..,j+nim-1\n",
    "                input_months=np.zeros(nim)\n",
    "                for k in range(nim):\n",
    "                    #load month for input j+k\n",
    "                    bik,eik=get_monthi(j+k)\n",
    "                    input_months[k]=meter[bik:eik].mean()\n",
    "                #debug if statement checks for NaN in input month\n",
    "                if np.isnan(np.sum(input_months)):\n",
    "                    print(\"months=%i index=%i\" %(j,i))\n",
    "                    print(input_months)\n",
    "                prev_con.append(input_months)\n",
    "                #save output for month j+nim\n",
    "                bio,eio=get_monthi(j+nim)\n",
    "                En_con.append(meter[bio:eio].mean())\n",
    "            #break out of outer month loops since the inner month loop takes care of all months\n",
    "            break\n",
    "           "
   ]
  },
  {
   "cell_type": "code",
   "execution_count": 63,
   "metadata": {},
   "outputs": [
    {
     "name": "stdout",
     "output_type": "stream",
     "text": [
      "(12164, 3)\n",
      "(12164,)\n",
      "False\n",
      "False\n",
      "[[0.14642422 0.1430625  0.13402588]\n",
      " [0.22650292 0.28777667 0.49675126]\n",
      " [0.17537851 0.41779083 0.59922142]\n",
      " ...\n",
      " [0.15264628 0.1558221  0.16745389]\n",
      " [0.1558221  0.16745389 0.22983917]\n",
      " [0.16745389 0.22983917 0.35668728]]\n"
     ]
    }
   ],
   "source": [
    "npprev_con=np.array(prev_con)\n",
    "npEn_con = np.zeros(len(En_con))\n",
    "npEn_con=np.array(En_con).ravel()\n",
    "print(npprev_con.shape)\n",
    "print(npEn_con.shape)\n",
    "print(np.isnan(np.sum(npprev_con) ))\n",
    "print(np.isnan(np.sum(npEn_con.shape)))\n",
    "print(npprev_con)"
   ]
  },
  {
   "cell_type": "code",
   "execution_count": 23,
   "metadata": {},
   "outputs": [],
   "source": [
    "def linreg(X_train,y_train,X_test,y_test,plotgraph=False):\n",
    "    # Create linear regression object\n",
    "    regr = linear_model.LinearRegression()\n",
    "\n",
    "    # Train the model using the training sets\n",
    "    regr.fit(X_train, y_train)\n",
    "\n",
    "    # Make predictions using the testing set\n",
    "    y_pred = regr.predict(X_test)\n",
    "    \n",
    "    MSE=mean_squared_error(y_test, y_pred)\n",
    "    R2=r2_score(y_test, y_pred)\n",
    "    # The coefficients\n",
    "    print('Coefficients: \\n', regr.coef_)\n",
    "    # The mean squared error\n",
    "    print('Mean squared error: %.8f'\n",
    "      % MSE)\n",
    "    # The coefficient of determination: 1 is perfect prediction\n",
    "    print('Coefficient of determination: %.8f'\n",
    "      % R2)\n",
    "    if plotgraph:\n",
    "        # Plot outputs\n",
    "        plt.scatter(X_test, y_test,  color='black')\n",
    "        plt.plot(X_test, y_pred, color='blue', linewidth=3)\n",
    "        plt.xlabel(\"average consumption last month for all users\")\n",
    "        plt.ylabel(\"average consumption current monthfor all users\")\n",
    "\n",
    "        plt.show()\n",
    "    return MSE,R2"
   ]
  },
  {
   "cell_type": "markdown",
   "metadata": {},
   "source": [
    "## Autoregressive model"
   ]
  },
  {
   "cell_type": "markdown",
   "metadata": {},
   "source": [
    "Technically what we're doing here is called an autoregressive model"
   ]
  },
  {
   "cell_type": "markdown",
   "metadata": {},
   "source": [
    "### 2 months of previous data"
   ]
  },
  {
   "cell_type": "code",
   "execution_count": 41,
   "metadata": {},
   "outputs": [
    {
     "name": "stdout",
     "output_type": "stream",
     "text": [
      "Coefficients: \n",
      " [[-0.20575984  1.24777187]]\n",
      "Mean squared error: 0.00310198\n",
      "Coefficient of determination: 0.84620702\n"
     ]
    }
   ],
   "source": [
    "splitnum=np.int(0.3*npprev_con.shape[0])\n",
    "X_train = npprev_con[:-splitnum] #70% trainning set\n",
    "\n",
    "X_test = npprev_con[-splitnum:] #  last 6322 elements are the test set\n",
    "\n",
    "\n",
    "# Split the targets into training/testing sets\n",
    "y_train = npEn_con[:-splitnum]\n",
    "y_train = npEn_con[:-splitnum].reshape(-1,1)\n",
    "\n",
    "y_test = npEn_con[-splitnum:]\n",
    "y_test = y_test.reshape(-1,1)\n",
    "linreg(X_train,y_train,X_test,y_test)"
   ]
  },
  {
   "cell_type": "code",
   "execution_count": 45,
   "metadata": {},
   "outputs": [
    {
     "name": "stdout",
     "output_type": "stream",
     "text": [
      "Coefficients: \n",
      " [[1.08664254]]\n",
      "Mean squared error: 0.00366902\n",
      "Coefficient of determination: 0.81809376\n"
     ]
    }
   ],
   "source": [
    "npprev_con_lm=npprev_con[:,1];\n",
    "#print(npprev_con_lm)\n",
    "#small check to see if the improment over the 1D model of \"linear_model_past_data\" is not due to the different(smaller) data set\n",
    "splitnum=np.int(0.3*npprev_con.shape[0])\n",
    "X_train = npprev_con_lm[:-splitnum] #70% trainning set\n",
    "X_train = X_train.reshape(-1,1)\n",
    "\n",
    "X_test = npprev_con_lm[-splitnum:] #  last 6322 elements are the test set\n",
    "X_test = X_test.reshape(-1,1)\n",
    "\n",
    "# Split the targets into training/testing sets\n",
    "y_train = npEn_con[:-splitnum]\n",
    "y_train = npEn_con[:-splitnum].reshape(-1,1)\n",
    "\n",
    "y_test = npEn_con[-splitnum:]\n",
    "y_test = y_test.reshape(-1,1)\n",
    "linreg(X_train,y_train,X_test,y_test)"
   ]
  },
  {
   "cell_type": "markdown",
   "metadata": {},
   "source": [
    "### 3 months of previous data"
   ]
  },
  {
   "cell_type": "code",
   "execution_count": 11,
   "metadata": {},
   "outputs": [],
   "source": [
    "def getconsumption_data(nim,NaN_t=1200):\n",
    "    En_con=[]\n",
    "    prev_con=[] #previous consumtion\n",
    "    for i in range(df.shape[0]): # loop over all users\n",
    "        meter=df.iloc[i] # = row number i  \n",
    "    \n",
    "        #loop over all month from januari until month 12-nim\n",
    "        #if the month is higher then this we don't have enough data for the nim input variables and the 1 output variable\n",
    "        for m in range (1,13-nim): \n",
    "            #load current month\n",
    "            bi, ei =get_monthi(m)               #bi (begin index) ei(end index)\n",
    "            month=meter[bi:ei]  #data for the month m for the row user (row) i\n",
    "\n",
    "            # Count the amount of NaN's in current and last month      \n",
    "            n_NaN=month.isnull().sum() \n",
    "\n",
    "            # Check if there are any NaN's in current and last month\n",
    "            if n_NaN<NaN_t:\n",
    "                for j in range(m,13-nim):\n",
    "                    #save input for month j,j+1,..,j+nim-1\n",
    "                    input_months=np.zeros(nim)\n",
    "                    for k in range(nim):\n",
    "                        #load month for input j+k\n",
    "                        bik,eik=get_monthi(j+k)\n",
    "                        input_months[k]=meter[bik:eik].mean()\n",
    "                        #debug if statement checks for NaN in input month\n",
    "                    if np.isnan(np.sum(input_months)):\n",
    "                        print(\"months=%i index=%i\" %(j,i))\n",
    "                        print(input_months)\n",
    "                    prev_con.append(input_months)\n",
    "                    #save output for month j+nim\n",
    "                    bio,eio=get_monthi(j+nim)\n",
    "                    En_con.append(meter[bio:eio].mean())\n",
    "                #break out of outer month loops since the inner month loop takes care of all months\n",
    "                break\n",
    "    #print(len(fEn_con))\n",
    "    return En_con,prev_con"
   ]
  },
  {
   "cell_type": "code",
   "execution_count": 15,
   "metadata": {},
   "outputs": [],
   "source": [
    "En_con3,prev_con3=getconsumption_data(nim=3,NaN_t=1200)"
   ]
  },
  {
   "cell_type": "code",
   "execution_count": 16,
   "metadata": {},
   "outputs": [
    {
     "name": "stdout",
     "output_type": "stream",
     "text": [
      "(12164, 3)\n",
      "(12164,)\n"
     ]
    }
   ],
   "source": [
    "npprev_con3=np.array(prev_con3)\n",
    "npEn_con3=np.array(En_con3).ravel()\n",
    "print(npprev_con3.shape)\n",
    "print(npEn_con3.shape)"
   ]
  },
  {
   "cell_type": "code",
   "execution_count": 19,
   "metadata": {},
   "outputs": [
    {
     "name": "stdout",
     "output_type": "stream",
     "text": [
      "Coefficients: \n",
      " [[-0.12909018 -0.02821269  1.20224792]]\n",
      "Mean squared error: 0.00286024\n",
      "Coefficient of determination: 0.86115772\n"
     ]
    }
   ],
   "source": [
    "splitnum=np.int(0.3*npprev_con3.shape[0])\n",
    "X_train = npprev_con3[:-splitnum] #70% trainning set\n",
    "\n",
    "X_test = npprev_con3[-splitnum:] #  last 6322 elements are the test set\n",
    "\n",
    "\n",
    "# Split the targets into training/testing sets\n",
    "y_train = npEn_con3[:-splitnum]\n",
    "y_train = npEn_con3[:-splitnum].reshape(-1,1)\n",
    "\n",
    "y_test = npEn_con3[-splitnum:]\n",
    "y_test = y_test.reshape(-1,1)\n",
    "linreg(X_train,y_train,X_test,y_test)"
   ]
  },
  {
   "cell_type": "code",
   "execution_count": 20,
   "metadata": {},
   "outputs": [
    {
     "name": "stdout",
     "output_type": "stream",
     "text": [
      "[0.13402588 0.49675126 0.59922142 ... 0.16745389 0.22983917 0.35668728]\n"
     ]
    }
   ],
   "source": [
    "#1D check\n",
    "npprev_con_lm=npprev_con3[:,2];\n",
    "print(npprev_con_lm)"
   ]
  },
  {
   "cell_type": "code",
   "execution_count": 22,
   "metadata": {},
   "outputs": [
    {
     "name": "stdout",
     "output_type": "stream",
     "text": [
      "Coefficients: \n",
      " [[1.09180938]]\n",
      "Mean squared error: 0.00337969\n",
      "Coefficient of determination: 0.83594199\n"
     ]
    }
   ],
   "source": [
    "#1D check\n",
    "npprev_con_lm=npprev_con3[:,2];\n",
    "#print(npprev_con_lm)\n",
    "#small check to see if the improment over the 1D model of \"linear_model_past_data\" is not due to the different(smaller) data set\n",
    "splitnum=np.int(0.3*npprev_con_lm.shape[0])\n",
    "X_train = npprev_con_lm[:-splitnum] #70% trainning set\n",
    "X_train = X_train.reshape(-1,1)\n",
    "\n",
    "X_test = npprev_con_lm[-splitnum:] #  last 6322 elements are the test set\n",
    "X_test = X_test.reshape(-1,1)\n",
    "\n",
    "# Split the targets into training/testing sets\n",
    "y_train = npEn_con3[:-splitnum]\n",
    "y_train = npEn_con3[:-splitnum].reshape(-1,1)\n",
    "\n",
    "y_test = npEn_con3[-splitnum:]\n",
    "y_test = y_test.reshape(-1,1)\n",
    "linreg(X_train,y_train,X_test,y_test)"
   ]
  },
  {
   "cell_type": "markdown",
   "metadata": {},
   "source": [
    "Improvement seems to be partially due to the data set reduction"
   ]
  },
  {
   "cell_type": "markdown",
   "metadata": {},
   "source": [
    "### n months of previous data"
   ]
  },
  {
   "cell_type": "code",
   "execution_count": 32,
   "metadata": {},
   "outputs": [
    {
     "name": "stdout",
     "output_type": "stream",
     "text": [
      "Amount of previous months used =1\n",
      "Coefficients: \n",
      " [[1.07298025]]\n",
      "Mean squared error: 0.00380956\n",
      "Coefficient of determination: 0.81910550\n",
      "Coefficients: \n",
      " [[1.07298025]]\n",
      "Mean squared error: 0.00380956\n",
      "Coefficient of determination: 0.81910550\n",
      "Amount of previous months used =2\n",
      "Coefficients: \n",
      " [[-0.20575984  1.24777187]]\n",
      "Mean squared error: 0.00310198\n",
      "Coefficient of determination: 0.84620702\n",
      "Coefficients: \n",
      " [[1.08664254]]\n",
      "Mean squared error: 0.00366902\n",
      "Coefficient of determination: 0.81809376\n",
      "Amount of previous months used =3\n",
      "Coefficients: \n",
      " [[-0.12909018 -0.02821269  1.20224792]]\n",
      "Mean squared error: 0.00286024\n",
      "Coefficient of determination: 0.86115772\n",
      "Coefficients: \n",
      " [[1.09180938]]\n",
      "Mean squared error: 0.00337969\n",
      "Coefficient of determination: 0.83594199\n",
      "Amount of previous months used =4\n",
      "Coefficients: \n",
      " [[-0.08969121 -0.0123351  -0.02401138  1.1829261 ]]\n",
      "Mean squared error: 0.00265995\n",
      "Coefficient of determination: 0.85213266\n",
      "Coefficients: \n",
      " [[1.09737409]]\n",
      "Mean squared error: 0.00299316\n",
      "Coefficient of determination: 0.83360915\n",
      "Amount of previous months used =5\n",
      "Coefficients: \n",
      " [[ 0.09687488 -0.14913244  0.00836572 -0.06089576  1.18415175]]\n",
      "Mean squared error: 0.00275000\n",
      "Coefficient of determination: 0.85734231\n",
      "Coefficients: \n",
      " [[1.11170205]]\n",
      "Mean squared error: 0.00291740\n",
      "Coefficient of determination: 0.84865818\n",
      "Amount of previous months used =6\n",
      "Coefficients: \n",
      " [[ 0.25661145 -0.16006762 -0.12956221  0.02309817 -0.08197709  1.16549878]]\n",
      "Mean squared error: 0.00276108\n",
      "Coefficient of determination: 0.86276064\n",
      "Coefficients: \n",
      " [[1.11439503]]\n",
      "Mean squared error: 0.00285153\n",
      "Coefficient of determination: 0.85826444\n",
      "Amount of previous months used =7\n",
      "Coefficients: \n",
      " [[ 0.18098582  0.10852071 -0.18841599 -0.17712994  0.08467558 -0.08653164\n",
      "   1.15389744]]\n",
      "Mean squared error: 0.00263774\n",
      "Coefficient of determination: 0.86898235\n",
      "Coefficients: \n",
      " [[1.13874976]]\n",
      "Mean squared error: 0.00277476\n",
      "Coefficient of determination: 0.86217645\n",
      "Amount of previous months used =8\n",
      "Coefficients: \n",
      " [[ 0.25252888 -0.02418599  0.14315341 -0.26383747 -0.11162642  0.07733607\n",
      "  -0.05597211  1.04871977]]\n",
      "Mean squared error: 0.00316596\n",
      "Coefficient of determination: 0.86391695\n",
      "Coefficients: \n",
      " [[1.12327938]]\n",
      "Mean squared error: 0.00326194\n",
      "Coefficient of determination: 0.85979145\n",
      "Amount of previous months used =9\n",
      "Coefficients: \n",
      " [[ 0.34908553 -0.09171883  0.05074836  0.19915222 -0.3294834   0.04858594\n",
      "  -0.13664927  0.00697415  0.96822168]]\n",
      "Mean squared error: 0.00406208\n",
      "Coefficient of determination: 0.85770245\n",
      "Coefficients: \n",
      " [[1.13844218]]\n",
      "Mean squared error: 0.00426095\n",
      "Coefficient of determination: 0.85073606\n",
      "Amount of previous months used =10\n",
      "Coefficients: \n",
      " [[ 0.30339133 -0.14186135  0.20137741 -0.01963576 -0.02073434  0.08472555\n",
      "   0.04823074 -0.3063657  -0.01430931  0.93102178]]\n",
      "Mean squared error: 0.00538623\n",
      "Coefficient of determination: 0.87180664\n",
      "Coefficients: \n",
      " [[1.11716457]]\n",
      "Mean squared error: 0.00632448\n",
      "Coefficient of determination: 0.84947634\n",
      "Amount of previous months used =11\n",
      "Coefficients: \n",
      " [[-0.03002747  0.25018538 -0.15185582  0.01994254  0.10571827 -0.29081511\n",
      "   0.17480569  0.0540749   0.14027208 -0.10254059  1.0020807 ]]\n",
      "Mean squared error: 0.00210963\n",
      "Coefficient of determination: 0.95508558\n",
      "Coefficients: \n",
      " [[1.14683162]]\n",
      "Mean squared error: 0.00205653\n",
      "Coefficient of determination: 0.95621598\n"
     ]
    }
   ],
   "source": [
    "MSE=[]\n",
    "R2=[]\n",
    "MSE1D=[]\n",
    "R21D=[]\n",
    "size_data=[]\n",
    "\n",
    "for n in range(1,12):\n",
    "    print(\"Amount of previous months used =%i\" %n)\n",
    "    #get data\n",
    "    En_conn,prev_conn=getconsumption_data(nim=n,NaN_t=1200)\n",
    "    #turn data in to numpy arr\n",
    "    npprev_conn=np.array(prev_conn)\n",
    "    npEn_conn=np.array(En_conn).ravel()\n",
    "    #print(npprev_conn.shape)\n",
    "    size_data.append(npprev_conn.shape[0])\n",
    "    #split data set\n",
    "    splitnum=np.int(0.3*npprev_conn.shape[0])\n",
    "    X_train = npprev_conn[:-splitnum] #70% trainning set\n",
    "    X_test = npprev_conn[-splitnum:] #  last 6322 elements are the test set\n",
    "    #print(X_train.shape)\n",
    "    \n",
    "    # Split the targets into training/testing sets\n",
    "    y_train = npEn_conn[:-splitnum]\n",
    "    y_train = npEn_conn[:-splitnum].reshape(-1,1)\n",
    "    #print(y_train.shape)\n",
    "\n",
    "    y_test = npEn_conn[-splitnum:]\n",
    "    y_test = y_test.reshape(-1,1)\n",
    "    #train model\n",
    "    mse,r2=linreg(X_train,y_train,X_test,y_test)\n",
    "    MSE.append(mse)\n",
    "    R2.append(r2)\n",
    "    \n",
    "    #1D check\n",
    "    #1D check\n",
    "    npprev_con_lm=npprev_conn[:,n-1];\n",
    "    #print(npprev_con_lm.shape)\n",
    "    #print(npprev_con_lm)\n",
    "    #small check to see if the improment over the 1D model of \"linear_model_past_data\" is not due to the different(smaller) data set\n",
    "    splitnum=np.int(0.3*npprev_con_lm.shape[0])\n",
    "    X_train = npprev_con_lm[:-splitnum] #70% trainning set\n",
    "    X_train = X_train.reshape(-1,1)\n",
    "    #print(X_train.shape)\n",
    "    X_test = npprev_con_lm[-splitnum:] #  last 6322 elements are the test set\n",
    "    X_test = X_test.reshape(-1,1)\n",
    "\n",
    "    mse1D,r21D=linreg(X_train,y_train,X_test,y_test)\n",
    "    MSE1D.append(mse1D)\n",
    "    R21D.append(r21D)"
   ]
  },
  {
   "cell_type": "code",
   "execution_count": 36,
   "metadata": {},
   "outputs": [
    {
     "name": "stdout",
     "output_type": "stream",
     "text": [
      "[17845, 14868, 12164, 9729, 7565, 5672, 4050, 2699, 1619, 809, 269]\n"
     ]
    },
    {
     "data": {
      "image/png": "[encoded data removed]",
      "text/plain": [
       "<Figure size 432x288 with 1 Axes>"
      ]
     },
     "metadata": {
      "needs_background": "light"
     },
     "output_type": "display_data"
    }
   ],
   "source": [
    "month_arr=np.arange(1,12)\n",
    "print(size_data)\n",
    "# Plot outputs\n",
    "plt.scatter(month_arr, size_data,  color='black')\n",
    "plt.xlabel(\"number of months used as input\")\n",
    "plt.ylabel(\"number of available data points\")\n",
    "plt.show()"
   ]
  },
  {
   "cell_type": "code",
   "execution_count": 38,
   "metadata": {},
   "outputs": [
    {
     "data": {
      "image/png": "[encoded data removed]",
      "text/plain": [
       "<Figure size 432x288 with 1 Axes>"
      ]
     },
     "metadata": {
      "needs_background": "light"
     },
     "output_type": "display_data"
    }
   ],
   "source": [
    "# Plot outputs\n",
    "plt.scatter(month_arr, MSE,  color='blue',label=\"n inputs\")\n",
    "plt.scatter(month_arr,MSE1D, color='red', label=\"1 inputs\")\n",
    "plt.xlabel(\"number of months used as input\")\n",
    "plt.ylabel(\"MSE\")\n",
    "plt.legend()\n",
    "plt.show()"
   ]
  },
  {
   "cell_type": "code",
   "execution_count": 47,
   "metadata": {},
   "outputs": [
    {
     "data": {
      "image/png": "[encoded data removed]",
      "text/plain": [
       "<Figure size 432x288 with 1 Axes>"
      ]
     },
     "metadata": {
      "needs_background": "light"
     },
     "output_type": "display_data"
    }
   ],
   "source": [
    "# Plot outputs\n",
    "plt.scatter(month_arr, np.abs(np.array(MSE1D)-np.array(MSE)),  color='black',label=\"n inputs\")\n",
    "plt.xlabel(\"number of months used as input\")\n",
    "plt.ylabel(\"MSE(1D) - MSE(1D)\")\n",
    "plt.legend()\n",
    "plt.show()"
   ]
  },
  {
   "cell_type": "code",
   "execution_count": 39,
   "metadata": {},
   "outputs": [
    {
     "data": {
      "image/png": "[encoded data removed]",
      "text/plain": [
       "<Figure size 432x288 with 1 Axes>"
      ]
     },
     "metadata": {
      "needs_background": "light"
     },
     "output_type": "display_data"
    }
   ],
   "source": [
    "# Plot outputs\n",
    "plt.scatter(month_arr, R2,  color='blue',label=\"n inputs\")\n",
    "plt.scatter(month_arr,R21D, color='red', label=\"1 inputs\")\n",
    "plt.xlabel(\"number of months used as input\")\n",
    "plt.ylabel(\"R2\")\n",
    "plt.legend()\n",
    "plt.show()"
   ]
  },
  {
   "cell_type": "code",
   "execution_count": 46,
   "metadata": {},
   "outputs": [
    {
     "data": {
      "image/png": "[encoded data removed]",
      "text/plain": [
       "<Figure size 432x288 with 1 Axes>"
      ]
     },
     "metadata": {
      "needs_background": "light"
     },
     "output_type": "display_data"
    }
   ],
   "source": [
    "# Plot output\n",
    "plt.scatter(month_arr, np.array(R2)-np.array(R21D),  color='black',label=\"n inputs\")\n",
    "plt.xlabel(\"number of months used as input\")\n",
    "plt.ylabel(\"R2(nD) - R2(1d)\")\n",
    "plt.legend()\n",
    "plt.show()"
   ]
  },
  {
   "cell_type": "markdown",
   "metadata": {},
   "source": [
    "From this we can conclude that using 1,2 or 3 months as input result in the best models since we still have sufficient data and the improment of the model is mostly a result of the extra information an not the smaller/easier data set"
   ]
  },
  {
   "cell_type": "markdown",
   "metadata": {},
   "source": [
    "## Adding extra information like temperature to the linear/autoregressive models"
   ]
  },
  {
   "cell_type": "code",
   "execution_count": 77,
   "metadata": {},
   "outputs": [],
   "source": [
    "NaN_t=1200\n",
    "En_con=[]\n",
    "#number of input months (if nim=1 we should get the same as before)\n",
    "#this is the amount of months we want in our input space to predict the next monthly consumption\n",
    "nim=2       \n",
    "prev_con=[] #previous consumtion\n",
    "#extra info\n",
    "temps=[]\n",
    "temps_min=[]\n",
    "temps_max=[]\n",
    "month_arr=[]\n",
    "br_arr=[]\n",
    "\n",
    "for i in range(df.shape[0]): # loop over all users\n",
    "    meter=df.iloc[i] # = row number i  \n",
    "    \n",
    "    #loop over all month from januari until month 12-nim\n",
    "    #if the month is higher then this we don't have enough data for the nim input variables and the 1 output variable\n",
    "    for m in range (1,13-nim): \n",
    "        #load current month\n",
    "        bi, ei =get_monthi(m)               #bi (begin index) ei(end index)\n",
    "        month=meter[bi:ei]  #data for the month m for the row user (row) i\n",
    "        row = brinfo_filled[i:i+1]\n",
    "\n",
    "        # Count the amount of NaN's in current and last month      \n",
    "        n_NaN=month.isnull().sum() \n",
    "\n",
    "        # Check if there are any NaN's in current and last month\n",
    "        if n_NaN<NaN_t:\n",
    "            for j in range(m,13-nim):\n",
    "                #save input for month j,j+1,..,j+nim-1\n",
    "                input_months=np.zeros(nim)\n",
    "                for k in range(nim):\n",
    "                    #load month for input j+k\n",
    "                    bik,eik=get_monthi(j+k)\n",
    "                    input_months[k]=meter[bik:eik].mean()\n",
    "                #debug if statement checks for NaN in input month\n",
    "                if np.isnan(np.sum(input_months)):\n",
    "                    print(\"months=%i index=%i\" %(j,i))\n",
    "                    print(input_months)\n",
    "                prev_con.append(input_months)\n",
    "                #save output for month j+nim\n",
    "                bio,eio=get_monthi(j+nim)\n",
    "                En_con.append(meter[bio:eio].mean())\n",
    "                #save extra information \n",
    "                temps.append(get_mean_temp(weather_avg_sorted.iloc[i:i+1],j+nim))\n",
    "                temps_min.append(get_mean_temp(weather_min_sorted.iloc[i:i+1],j+nim))\n",
    "                temps_max.append(get_mean_temp(weather_max_sorted.iloc[i:i+1],j+nim))\n",
    "                month_arr.append(j+nim)\n",
    "                br_arr.append(row[0])\n",
    "                \n",
    "                \n",
    "            #break out of outer month loops since the inner month loop takes care of all months\n",
    "            break\n",
    "           "
   ]
  },
  {
   "cell_type": "markdown",
   "metadata": {},
   "source": [
    "We could also add the temperature of the input months this could lead to another improvement"
   ]
  },
  {
   "cell_type": "code",
   "execution_count": 78,
   "metadata": {},
   "outputs": [],
   "source": [
    "# converting list to numpy arrays: \n",
    "npprev_con=np.array(prev_con)\n",
    "npEn_con=np.array(En_con).ravel()\n",
    "\n",
    "nptemps = np.zeros(len(temps))\n",
    "nptemps_min = np.zeros(len(temps_min))\n",
    "nptemps_max = np.zeros(len(temps_max))\n",
    "npmonth_arr = np.zeros(len(month_arr))\n",
    "npbr_arr = np.zeros(len(br_arr)) #converting it into numpy array.\n",
    "\n",
    "for i in range(len(temps)):\n",
    "     nptemps[i] = temps[i]\n",
    "\n",
    "for i in range(len(temps_min)):\n",
    "     nptemps_min[i] = temps_min[i]\n",
    "\n",
    "for i in range(len(temps_max)):\n",
    "     nptemps_max[i] = temps_max[i]\n",
    "\n",
    "for i in range(len(month_arr)):\n",
    "     npmonth_arr[i] = month_arr[i]\n",
    "\n",
    "for i in range(len(br_arr)):\n",
    "    npbr_arr[i] = br_arr[i]    "
   ]
  },
  {
   "cell_type": "code",
   "execution_count": 79,
   "metadata": {},
   "outputs": [],
   "source": [
    "#combine features\n",
    "#we'll exluce moths for now since they're not linear\n",
    "np_features= np.zeros(shape = (len(temps), nim+4))\n",
    "\n",
    "for i in range(len(temps)):\n",
    "    np_features[i, 0:nim]  = npprev_con[i,:]\n",
    "    np_features[i, nim] = temps[i]\n",
    "    np_features[i, nim+1] = temps_min[i]\n",
    "    np_features[i, nim+2] = temps_max[i]\n",
    "    np_features[i, nim+3] = npbr_arr[i]\n",
    "   # np_features[i, 5] = npmonth_arr[i]"
   ]
  },
  {
   "cell_type": "code",
   "execution_count": 73,
   "metadata": {},
   "outputs": [
    {
     "name": "stdout",
     "output_type": "stream",
     "text": [
      "Coefficients: \n",
      " [-6.44446258e-02 -4.72346132e-02  1.15438412e+00 -1.05270164e-03\n",
      " -2.79227361e-05 -1.04496744e-03  1.89534007e-03]\n",
      "Mean squared error: 0.00278074\n",
      "Coefficient of determination: 0.8650\n"
     ]
    }
   ],
   "source": [
    "splitnum=np.int(0.3*npprev_con.shape[0])\n",
    "# Split the data into training/testing sets\n",
    "X_train_comb = np_features[:-splitnum]\n",
    "X_test_comb = np_features[-splitnum:]\n",
    "\n",
    "# Split the targets into training/testing sets\n",
    "y_train = npEn_con[:-splitnum]\n",
    "y_test = npEn_con[-splitnum:]\n",
    "\n",
    "\n",
    "# Create linear regression object\n",
    "regr_comb = linear_model.LinearRegression()\n",
    "\n",
    "# Train the model using the training sets\n",
    "regr_comb.fit(X_train_comb, y_train)\n",
    "\n",
    "\n",
    "# Make predictions using the testing set\n",
    "y_pred_comb = regr_comb.predict(X_test_comb)\n",
    "\n",
    "\n",
    "# The coefficients\n",
    "print('Coefficients: \\n', regr_comb.coef_)\n",
    "# The mean squared error\n",
    "print('Mean squared error: %.8f'\n",
    "      % mean_squared_error(y_test, y_pred_comb))\n",
    "# The coefficient of determination: 1 is perfect prediction\n",
    "print('Coefficient of determination: %.4f'\n",
    "      % r2_score(y_test, y_pred_comb))"
   ]
  },
  {
   "cell_type": "markdown",
   "metadata": {},
   "source": [
    "output for nim=2: <br>\n",
    "Coefficients: <br>\n",
    " [-1.47788769e-01  1.18374694e+00 -3.12669273e-04  1.13349017e-03\n",
    " -2.73056036e-03  1.36765033e-03] <br>\n",
    "Mean squared error: 0.00299868 <br>\n",
    "Coefficient of determination: 0.8513 <br>\n",
    "output for nim=3: <br>\n",
    "Coefficients:  <br>\n",
    " [-6.44446258e-02 -4.72346132e-02  1.15438412e+00 -1.05270164e-03\n",
    " -2.79227361e-05 -1.04496744e-03  1.89534007e-03] <br>\n",
    "Mean squared error: 0.00278074 <br>\n",
    "Coefficient of determination: 0.8650 <br>"
   ]
  },
  {
   "cell_type": "markdown",
   "metadata": {},
   "source": [
    "## polynomail regression"
   ]
  },
  {
   "cell_type": "code",
   "execution_count": 70,
   "metadata": {},
   "outputs": [],
   "source": [
    "def polfit(X_train,X_test,y_train,y_test,deg,printcoef=False):\n",
    "    # Fitting Polynomial Regression to the dataset\n",
    "    # source: https://towardsdatascience.com/machine-learning-polynomial-regression-with-python-5328e4e8a386\n",
    "    # Create polynomial regression object\n",
    "    polynom_degree = deg\n",
    "\n",
    "    poly_reg = PolynomialFeatures(degree = polynom_degree)\n",
    "\n",
    "    X_poly = poly_reg.fit_transform(X_train) # Fit to data, then transform it to \n",
    "    #a new feature matrix consisting ofall polynomial combinations of the features\n",
    "\n",
    "    pol_reg = LinearRegression()\n",
    "\n",
    "    # Train the model using the training sets\n",
    "    pol_reg.fit(X_poly, y_train)\n",
    "\n",
    "    # polyfitting the training data:\n",
    "    poly_vals = pol_reg.predict(poly_reg.fit_transform(X_train))\n",
    "\n",
    "    # Make predictions using the testing set\n",
    "    y_pred_poly = pol_reg.predict(poly_reg.fit_transform(X_test))\n",
    "\n",
    "    # The coefficients\n",
    "    if printcoef:\n",
    "        print('Coefficients: \\n', pol_reg.coef_)\n",
    "        \n",
    "    # The mean squared error\n",
    "    print('Mean squared error: %.8f'\n",
    "      % mean_squared_error(y_test, y_pred_poly))\n",
    "    # The coefficient of determination: 1 is perfect prediction\n",
    "    print('Coefficient of determination: %.8f'\n",
    "      % r2_score(y_test, y_pred_poly))"
   ]
  },
  {
   "cell_type": "code",
   "execution_count": 80,
   "metadata": {},
   "outputs": [
    {
     "name": "stdout",
     "output_type": "stream",
     "text": [
      "Mean squared error: 0.00274127\n",
      "Coefficient of determination: 0.86409073\n"
     ]
    }
   ],
   "source": [
    "splitnum=np.int(0.3*npprev_con.shape[0])\n",
    "# Split the data into training/testing sets\n",
    "X_train_comb = np_features[:-splitnum]\n",
    "X_test_comb = np_features[-splitnum:]\n",
    "\n",
    "# Split the targets into training/testing sets\n",
    "y_train = npEn_con[:-splitnum]\n",
    "y_test = npEn_con[-splitnum:]\n",
    "\n",
    "polfit(X_train_comb,X_test_comb,y_train,y_test,2,printcoef=False)"
   ]
  },
  {
   "cell_type": "markdown",
   "metadata": {},
   "source": [
    "nim=2 <br>\n",
    "Mean squared error: 0.00274127 <br>\n",
    "Coefficient of determination: 0.86409073 <br>\n",
    "nim=3 <br>\n",
    "Mean squared error: 0.00260187 <br>\n",
    "Coefficient of determination: 0.87369912 <br>"
   ]
  },
  {
   "cell_type": "markdown",
   "metadata": {},
   "source": [
    "## TO DO"
   ]
  },
  {
   "cell_type": "markdown",
   "metadata": {},
   "source": [
    "1) try to predict multiple month instead of 1 \n",
    "2) add temperature of the imput months to the model\n",
    "3) "
   ]
  },
  {
   "cell_type": "markdown",
   "metadata": {},
   "source": [
    "## Implementing KFold Enconding on previous models\n"
   ]
  },
  {
   "cell_type": "code",
   "execution_count": 3,
   "metadata": {},
   "outputs": [],
   "source": [
    "values = {'num_bedrooms' : -1}\n",
    "info_filled_br_dummy = info_sorted.fillna(value = values)\n",
    "brinfo_filled_dummy = info_filled_br_dummy['num_bedrooms']\n",
    "brinfo_filled_dummy\n",
    "y = pd.get_dummies(info_sorted.dwelling_type, prefix='dwelling_type')"
   ]
  },
  {
   "cell_type": "code",
   "execution_count": null,
   "metadata": {},
   "outputs": [],
   "source": [
    "def getconsumption_data2(nim)\n",
    "    NaN_t=1200\n",
    "    En_con=[]\n",
    "    #number of input months (if nim=1 we should get the same as before)\n",
    "    #this is the amount of months we want in our input space to predict the next monthly consumption     \n",
    "    prev_con=[] #previous consumtion\n",
    "    #extra info\n",
    "    temps=[]\n",
    "    temps_min=[]\n",
    "    temps_max=[]\n",
    "    month_arr=[]\n",
    "    br_arr=[]\n",
    "\n",
    "    for i in range(df.shape[0]): # loop over all users\n",
    "        meter=df.iloc[i] # = row number i  \n",
    "    \n",
    "        #loop over all month from januari until month 12-nim\n",
    "        #if the month is higher then this we don't have enough data for the nim input variables and the 1 output variable\n",
    "        for m in range (1,13-nim): \n",
    "            #load current month\n",
    "            bi, ei =get_monthi(m)               #bi (begin index) ei(end index)\n",
    "            month=meter[bi:ei]  #data for the month m for the row user (row) i\n",
    "            row = brinfo_filled[i:i+1]\n",
    "\n",
    "            # Count the amount of NaN's in current and last month      \n",
    "            n_NaN=month.isnull().sum() \n",
    "\n",
    "            # Check if there are any NaN's in current and last month\n",
    "            if n_NaN<NaN_t:\n",
    "                for j in range(m,13-nim):\n",
    "                    #save input for month j,j+1,..,j+nim-1\n",
    "                    input_months=np.zeros(nim)\n",
    "                    for k in range(nim):\n",
    "                        #load month for input j+k\n",
    "                        bik,eik=get_monthi(j+k)\n",
    "                        nput_months[k]=meter[bik:eik].mean()\n",
    "                    #debug if statement checks for NaN in input month\n",
    "                    if np.isnan(np.sum(input_months)):\n",
    "                        print(\"months=%i index=%i\" %(j,i))\n",
    "                        print(input_months)\n",
    "                    prev_con.append(input_months)\n",
    "                    #save output for month j+nim\n",
    "                    bio,eio=get_monthi(j+nim)\n",
    "                    En_con.append(meter[bio:eio].mean())\n",
    "                    #save extra information \n",
    "                    temps.append(get_mean_temp(weather_avg_sorted.iloc[i:i+1],j+nim))\n",
    "                    temps_min.append(get_mean_temp(weather_min_sorted.iloc[i:i+1],j+nim))\n",
    "                    temps_max.append(get_mean_temp(weather_max_sorted.iloc[i:i+1],j+nim))\n",
    "                    month_arr.append(j+nim)\n",
    "                    br_arr.append(row[0])\n",
    "                \n",
    "                \n",
    "                #break out of outer month loops since the inner month loop takes care of all months\n",
    "                break\n",
    "\n",
    "           "
   ]
  },
  {
   "cell_type": "code",
   "execution_count": 4,
   "metadata": {},
   "outputs": [
    {
     "ename": "NameError",
     "evalue": "name 'sort_data' is not defined",
     "output_type": "error",
     "traceback": [
      "\u001b[1;31m---------------------------------------------------------------------------\u001b[0m",
      "\u001b[1;31mNameError\u001b[0m                                 Traceback (most recent call last)",
      "\u001b[1;32m<ipython-input-4-9fbacef94ab5>\u001b[0m in \u001b[0;36m<module>\u001b[1;34m\u001b[0m\n\u001b[0;32m      1\u001b[0m \u001b[1;31m#nim=1\u001b[0m\u001b[1;33m\u001b[0m\u001b[1;33m\u001b[0m\u001b[1;33m\u001b[0m\u001b[0m\n\u001b[1;32m----> 2\u001b[1;33m \u001b[0mnpEn_con1\u001b[0m\u001b[1;33m,\u001b[0m\u001b[0mnpprev_con1\u001b[0m\u001b[1;33m,\u001b[0m\u001b[0mnptemps1\u001b[0m\u001b[1;33m,\u001b[0m\u001b[0mnptemps_min1\u001b[0m\u001b[1;33m,\u001b[0m\u001b[0mnptemps_max1\u001b[0m\u001b[1;33m,\u001b[0m\u001b[0mnpmonth_arr1\u001b[0m\u001b[1;33m,\u001b[0m\u001b[0mnpbr_arr1\u001b[0m\u001b[1;33m,\u001b[0m\u001b[0mnpbr_arr_dummy1\u001b[0m\u001b[1;33m,\u001b[0m\u001b[0mdw_t_b1\u001b[0m\u001b[1;33m,\u001b[0m\u001b[0mdw_t_d1\u001b[0m\u001b[1;33m,\u001b[0m\u001b[0mdw_t_f1\u001b[0m\u001b[1;33m,\u001b[0m\u001b[0mdw_t_s1\u001b[0m\u001b[1;33m,\u001b[0m\u001b[0mdw_t_t1\u001b[0m\u001b[1;33m=\u001b[0m\u001b[0msort_data\u001b[0m\u001b[1;33m(\u001b[0m\u001b[1;36m1\u001b[0m\u001b[1;33m)\u001b[0m\u001b[1;33m\u001b[0m\u001b[1;33m\u001b[0m\u001b[0m\n\u001b[0m\u001b[0;32m      3\u001b[0m \u001b[1;31m#nim=2\u001b[0m\u001b[1;33m\u001b[0m\u001b[1;33m\u001b[0m\u001b[1;33m\u001b[0m\u001b[0m\n\u001b[0;32m      4\u001b[0m \u001b[0mnpEn_con2\u001b[0m\u001b[1;33m,\u001b[0m\u001b[0mnpprev_con2\u001b[0m\u001b[1;33m,\u001b[0m\u001b[0mnptemps2\u001b[0m\u001b[1;33m,\u001b[0m\u001b[0mnptemps_min2\u001b[0m\u001b[1;33m,\u001b[0m\u001b[0mnptemps_max2\u001b[0m\u001b[1;33m,\u001b[0m\u001b[0mnpmonth_arr2\u001b[0m\u001b[1;33m,\u001b[0m\u001b[0mnpbr_arr2\u001b[0m\u001b[1;33m,\u001b[0m\u001b[0mnpbr_arr_dummy2\u001b[0m\u001b[1;33m,\u001b[0m\u001b[0mdw_t_b2\u001b[0m\u001b[1;33m,\u001b[0m\u001b[0mdw_t_d2\u001b[0m\u001b[1;33m,\u001b[0m\u001b[0mdw_t_f2\u001b[0m\u001b[1;33m,\u001b[0m\u001b[0mdw_t_s2\u001b[0m\u001b[1;33m,\u001b[0m\u001b[0mdw_t_t2\u001b[0m\u001b[1;33m=\u001b[0m\u001b[0msort_data\u001b[0m\u001b[1;33m(\u001b[0m\u001b[1;36m2\u001b[0m\u001b[1;33m)\u001b[0m\u001b[1;33m\u001b[0m\u001b[1;33m\u001b[0m\u001b[0m\n\u001b[0;32m      5\u001b[0m \u001b[1;31m#nim=3\u001b[0m\u001b[1;33m\u001b[0m\u001b[1;33m\u001b[0m\u001b[1;33m\u001b[0m\u001b[0m\n",
      "\u001b[1;31mNameError\u001b[0m: name 'sort_data' is not defined"
     ]
    }
   ],
   "source": []
  }
 ],
 "metadata": {
  "kernelspec": {
   "display_name": "Python 3",
   "language": "python",
   "name": "python3"
  },
  "language_info": {
   "codemirror_mode": {
    "name": "ipython",
    "version": 3
   },
   "file_extension": ".py",
   "mimetype": "text/x-python",
   "name": "python",
   "nbconvert_exporter": "python",
   "pygments_lexer": "ipython3",
   "version": "3.6.12"
  }
 },
 "nbformat": 4,
 "nbformat_minor": 4
}
